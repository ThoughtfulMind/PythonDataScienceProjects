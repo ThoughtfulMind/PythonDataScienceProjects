{
  "cells": [
    {
      "cell_type": "markdown",
      "metadata": {
        "id": "view-in-github",
        "colab_type": "text"
      },
      "source": [
        "<a href=\"https://colab.research.google.com/github/ThoughtfulMind/PythonDataScienceProjects/blob/main/Copy_of_Time_Series.ipynb\" target=\"_parent\"><img src=\"https://colab.research.google.com/assets/colab-badge.svg\" alt=\"Open In Colab\"/></a>"
      ]
    },
    {
      "cell_type": "markdown",
      "id": "afa243cb-27bc-4686-84ea-e72c34dfa7e2",
      "metadata": {
        "id": "afa243cb-27bc-4686-84ea-e72c34dfa7e2"
      },
      "source": [
        "For this tutorial about time series we will use a dataset provided by CitiBike, a bike sharing system in NYC. You can download the data here https://s3.amazonaws.com/tripdata/202112-citibike-tripdata.csv.zip"
      ]
    },
    {
      "cell_type": "code",
      "execution_count": null,
      "id": "36fae209-ff5f-476c-9e02-ae000ec601b2",
      "metadata": {
        "id": "36fae209-ff5f-476c-9e02-ae000ec601b2",
        "outputId": "e993de86-d367-45a8-ad94-06605131475a"
      },
      "outputs": [
        {
          "name": "stderr",
          "output_type": "stream",
          "text": [
            "/Users/rohpitre/projects/venv/lib/python3.8/site-packages/IPython/core/interactiveshell.py:3169: DtypeWarning: Columns (5,7) have mixed types.Specify dtype option on import or set low_memory=False.\n",
            "  has_raised = await self.run_ast_nodes(code_ast.body, cell_name,\n"
          ]
        }
      ],
      "source": [
        "import pandas as pd\n",
        "import altair as alt\n",
        "import numpy as np\n",
        "import datetime as dt\n",
        "data = pd.read_csv('/Users/rohpitre/Downloads/202112-citibike-tripdata.csv')"
      ]
    },
    {
      "cell_type": "markdown",
      "id": "cdf076d9-640f-4da2-9668-3ec5e9e0dd68",
      "metadata": {
        "id": "cdf076d9-640f-4da2-9668-3ec5e9e0dd68"
      },
      "source": [
        "# Defining the Problem"
      ]
    },
    {
      "cell_type": "markdown",
      "id": "d46423cd-d4a1-4fee-b7bd-e66e216a2145",
      "metadata": {
        "id": "d46423cd-d4a1-4fee-b7bd-e66e216a2145"
      },
      "source": [
        "We can start by taking a look at the structure of the data. The column names are descriptive of the nature of the variable"
      ]
    },
    {
      "cell_type": "code",
      "execution_count": null,
      "id": "8096bc7d-484f-44d0-8e7e-a80e2d928d74",
      "metadata": {
        "id": "8096bc7d-484f-44d0-8e7e-a80e2d928d74",
        "outputId": "290a9e38-1f81-4802-f107-3c2d887a4a37"
      },
      "outputs": [
        {
          "data": {
            "text/html": [
              "<div>\n",
              "<style scoped>\n",
              "    .dataframe tbody tr th:only-of-type {\n",
              "        vertical-align: middle;\n",
              "    }\n",
              "\n",
              "    .dataframe tbody tr th {\n",
              "        vertical-align: top;\n",
              "    }\n",
              "\n",
              "    .dataframe thead th {\n",
              "        text-align: right;\n",
              "    }\n",
              "</style>\n",
              "<table border=\"1\" class=\"dataframe\">\n",
              "  <thead>\n",
              "    <tr style=\"text-align: right;\">\n",
              "      <th></th>\n",
              "      <th>ride_id</th>\n",
              "      <th>rideable_type</th>\n",
              "      <th>started_at</th>\n",
              "      <th>ended_at</th>\n",
              "      <th>start_station_name</th>\n",
              "      <th>start_station_id</th>\n",
              "      <th>end_station_name</th>\n",
              "      <th>end_station_id</th>\n",
              "      <th>start_lat</th>\n",
              "      <th>start_lng</th>\n",
              "      <th>end_lat</th>\n",
              "      <th>end_lng</th>\n",
              "      <th>member_casual</th>\n",
              "    </tr>\n",
              "  </thead>\n",
              "  <tbody>\n",
              "    <tr>\n",
              "      <th>0</th>\n",
              "      <td>7AE6209F17967FF2</td>\n",
              "      <td>classic_bike</td>\n",
              "      <td>2021-12-07 08:54:24</td>\n",
              "      <td>2021-12-07 08:59:46</td>\n",
              "      <td>Broadway &amp; Hancock St</td>\n",
              "      <td>4441.06</td>\n",
              "      <td>Lewis Ave &amp; Madison St</td>\n",
              "      <td>4425.02</td>\n",
              "      <td>40.686630</td>\n",
              "      <td>-73.916800</td>\n",
              "      <td>40.686312</td>\n",
              "      <td>-73.935775</td>\n",
              "      <td>member</td>\n",
              "    </tr>\n",
              "    <tr>\n",
              "      <th>1</th>\n",
              "      <td>CCE209B6D683C96A</td>\n",
              "      <td>classic_bike</td>\n",
              "      <td>2021-12-13 21:22:35</td>\n",
              "      <td>2021-12-13 21:31:24</td>\n",
              "      <td>S 4 St &amp; Wythe Ave</td>\n",
              "      <td>5204.05</td>\n",
              "      <td>Metropolitan Ave &amp; Meeker Ave</td>\n",
              "      <td>5300.05</td>\n",
              "      <td>40.712859</td>\n",
              "      <td>-73.965903</td>\n",
              "      <td>40.714133</td>\n",
              "      <td>-73.952344</td>\n",
              "      <td>member</td>\n",
              "    </tr>\n",
              "    <tr>\n",
              "      <th>2</th>\n",
              "      <td>333961DE681551DA</td>\n",
              "      <td>classic_bike</td>\n",
              "      <td>2021-12-17 22:21:56</td>\n",
              "      <td>2021-12-17 22:30:41</td>\n",
              "      <td>6 Ave &amp; Canal St</td>\n",
              "      <td>5500.07</td>\n",
              "      <td>University Pl &amp; E 14 St</td>\n",
              "      <td>5905.14</td>\n",
              "      <td>40.722438</td>\n",
              "      <td>-74.005664</td>\n",
              "      <td>40.734814</td>\n",
              "      <td>-73.992085</td>\n",
              "      <td>member</td>\n",
              "    </tr>\n",
              "    <tr>\n",
              "      <th>3</th>\n",
              "      <td>E5F6240DEF91E399</td>\n",
              "      <td>classic_bike</td>\n",
              "      <td>2021-12-13 17:44:19</td>\n",
              "      <td>2021-12-13 17:51:35</td>\n",
              "      <td>E 2 St &amp; Avenue C</td>\n",
              "      <td>5476.03</td>\n",
              "      <td>E 11 St &amp; 3 Ave</td>\n",
              "      <td>5788.16</td>\n",
              "      <td>40.720874</td>\n",
              "      <td>-73.980858</td>\n",
              "      <td>40.731270</td>\n",
              "      <td>-73.988490</td>\n",
              "      <td>member</td>\n",
              "    </tr>\n",
              "    <tr>\n",
              "      <th>4</th>\n",
              "      <td>B93587D5FA305113</td>\n",
              "      <td>classic_bike</td>\n",
              "      <td>2021-12-04 16:03:04</td>\n",
              "      <td>2021-12-04 16:06:47</td>\n",
              "      <td>Columbia St &amp; Degraw St</td>\n",
              "      <td>4422.04</td>\n",
              "      <td>Atlantic Ave &amp; Furman St</td>\n",
              "      <td>4614.04</td>\n",
              "      <td>40.685930</td>\n",
              "      <td>-74.002424</td>\n",
              "      <td>40.691652</td>\n",
              "      <td>-73.999979</td>\n",
              "      <td>member</td>\n",
              "    </tr>\n",
              "  </tbody>\n",
              "</table>\n",
              "</div>"
            ],
            "text/plain": [
              "            ride_id rideable_type           started_at             ended_at  \\\n",
              "0  7AE6209F17967FF2  classic_bike  2021-12-07 08:54:24  2021-12-07 08:59:46   \n",
              "1  CCE209B6D683C96A  classic_bike  2021-12-13 21:22:35  2021-12-13 21:31:24   \n",
              "2  333961DE681551DA  classic_bike  2021-12-17 22:21:56  2021-12-17 22:30:41   \n",
              "3  E5F6240DEF91E399  classic_bike  2021-12-13 17:44:19  2021-12-13 17:51:35   \n",
              "4  B93587D5FA305113  classic_bike  2021-12-04 16:03:04  2021-12-04 16:06:47   \n",
              "\n",
              "        start_station_name start_station_id               end_station_name  \\\n",
              "0    Broadway & Hancock St          4441.06         Lewis Ave & Madison St   \n",
              "1       S 4 St & Wythe Ave          5204.05  Metropolitan Ave & Meeker Ave   \n",
              "2         6 Ave & Canal St          5500.07        University Pl & E 14 St   \n",
              "3        E 2 St & Avenue C          5476.03                E 11 St & 3 Ave   \n",
              "4  Columbia St & Degraw St          4422.04       Atlantic Ave & Furman St   \n",
              "\n",
              "  end_station_id  start_lat  start_lng    end_lat    end_lng member_casual  \n",
              "0        4425.02  40.686630 -73.916800  40.686312 -73.935775        member  \n",
              "1        5300.05  40.712859 -73.965903  40.714133 -73.952344        member  \n",
              "2        5905.14  40.722438 -74.005664  40.734814 -73.992085        member  \n",
              "3        5788.16  40.720874 -73.980858  40.731270 -73.988490        member  \n",
              "4        4614.04  40.685930 -74.002424  40.691652 -73.999979        member  "
            ]
          },
          "execution_count": 2,
          "metadata": {},
          "output_type": "execute_result"
        }
      ],
      "source": [
        "data.head()"
      ]
    },
    {
      "cell_type": "markdown",
      "id": "369ef865-abff-4e51-b98c-0a498fe9c0b0",
      "metadata": {
        "id": "369ef865-abff-4e51-b98c-0a498fe9c0b0"
      },
      "source": [
        "This data is currently a set of rides. In order to use this data as a time series dataset, we will need to transform it. We can also look at the dates and find that this dataset is for one month of rides."
      ]
    },
    {
      "cell_type": "code",
      "execution_count": null,
      "id": "94234bc4-55a7-49b8-a288-4609706992f2",
      "metadata": {
        "id": "94234bc4-55a7-49b8-a288-4609706992f2",
        "outputId": "7ed7bc93-e962-4bb0-9719-c2479a07d1ca"
      },
      "outputs": [
        {
          "data": {
            "text/plain": [
              "'2021-12-01 00:00:04'"
            ]
          },
          "execution_count": 3,
          "metadata": {},
          "output_type": "execute_result"
        }
      ],
      "source": [
        "data['started_at'].min()"
      ]
    },
    {
      "cell_type": "code",
      "execution_count": null,
      "id": "c80b3561-14e2-4575-943b-d74dbf285bf5",
      "metadata": {
        "id": "c80b3561-14e2-4575-943b-d74dbf285bf5",
        "outputId": "755f18f7-d311-4446-aa81-ed2c1bf0e07a"
      },
      "outputs": [
        {
          "data": {
            "text/plain": [
              "'2021-12-31 23:59:46'"
            ]
          },
          "execution_count": 4,
          "metadata": {},
          "output_type": "execute_result"
        }
      ],
      "source": [
        "data['started_at'].max()"
      ]
    },
    {
      "cell_type": "markdown",
      "id": "7f8bbb02-b72b-4573-9189-e905d18c96c8",
      "metadata": {
        "id": "7f8bbb02-b72b-4573-9189-e905d18c96c8"
      },
      "source": [
        "Time series, like all data science problems require careful problem definition. There are a few thing to keep in mind when designing time series solutions:\n",
        "1. Time series models work best when you have equally spaced points, so pick a timescale that is useful. If I put myself in the shoes of a CitiBike operator, I would be most interested in hourly data.\n",
        "2. Forecasts will generally work better on shorter time horizons. It is probably easier to estimate the hourly flows tomorrow rather than a week from now. It is also important to consider how long it takes to train your model and serve predictions. If you build a model that predicts hourly flows 1 hours out, but it takes 2 hours to gather all the relevant data, it will not be a practical model.\n",
        "3. Try to aggregate your data as much as possible. In our dataset, we have about 2000 stations. If we needed station level predictions, we would need to output 2000 predictions every hour. If we only needed to predict total traffic to the network, we would only need to provide 1 prediction per hour. Furthermore, the uncertainty in the sum of the arrivals of the stations is going to be less than the sum of the uncertainty of the arrivals of individual stations. For operational purposes, it would make sense to cluster the stations and predict the sums of the clusters. As a user, I am likely willing to walk a certain amount to find a bike, so grouping stations within this distance would make sense. For simplicity, we will only consider network level predictions.\n",
        "\n",
        "Thus, we will define the problem as follows. We want to provide hourly estimates for the next 24 hours every day at 6:00 AM. Imagine that every day operators look at this hourly forecast to look at rebalancing operations\n"
      ]
    },
    {
      "cell_type": "markdown",
      "id": "45504753-97cb-45b1-bc4f-d8237aabfcd2",
      "metadata": {
        "id": "45504753-97cb-45b1-bc4f-d8237aabfcd2"
      },
      "source": [
        "# Transforming the Data"
      ]
    },
    {
      "cell_type": "markdown",
      "id": "95e2cbdb-3bf7-404e-af28-e714ad28a07d",
      "metadata": {
        "id": "95e2cbdb-3bf7-404e-af28-e714ad28a07d"
      },
      "source": [
        "We want the number of rows for each hour. Luckily, pandas has functionality for these type of aggregations"
      ]
    },
    {
      "cell_type": "code",
      "execution_count": null,
      "id": "131119d0-a745-4cf4-ac33-8397e5a2fbc7",
      "metadata": {
        "id": "131119d0-a745-4cf4-ac33-8397e5a2fbc7"
      },
      "outputs": [],
      "source": [
        "data['started_at'] = pd.to_datetime(data['started_at'])\n",
        "hourly_counts = data['started_at'].dt.floor('h').value_counts().sort_index().reset_index()"
      ]
    },
    {
      "cell_type": "code",
      "execution_count": null,
      "id": "f13f11fa-19aa-4347-8af8-12ffce3bc0e6",
      "metadata": {
        "id": "f13f11fa-19aa-4347-8af8-12ffce3bc0e6",
        "outputId": "a3df4522-d80e-4afb-ce0d-c274e4ab65f9"
      },
      "outputs": [
        {
          "data": {
            "text/plain": [
              "(744, 2)"
            ]
          },
          "execution_count": 6,
          "metadata": {},
          "output_type": "execute_result"
        }
      ],
      "source": [
        "hourly_counts.columns = ['hour', 'num_rides']\n",
        "hourly_counts.shape"
      ]
    },
    {
      "cell_type": "markdown",
      "id": "11f2e1bb-bc85-417e-9c30-2f4cd91ce268",
      "metadata": {
        "id": "11f2e1bb-bc85-417e-9c30-2f4cd91ce268"
      },
      "source": [
        "The data has 744 rows because there are 31 days in December and 24 hours in each day"
      ]
    },
    {
      "cell_type": "code",
      "execution_count": null,
      "id": "ac448f62-3199-476d-b56a-2ef241a6a7bb",
      "metadata": {
        "id": "ac448f62-3199-476d-b56a-2ef241a6a7bb",
        "outputId": "dd0f961c-e5fc-40e3-c42c-d67758d96ab7"
      },
      "outputs": [
        {
          "data": {
            "text/html": [
              "\n",
              "<div id=\"altair-viz-3e226ee5e9fd49918027d4106060f640\"></div>\n",
              "<script type=\"text/javascript\">\n",
              "  (function(spec, embedOpt){\n",
              "    let outputDiv = document.currentScript.previousElementSibling;\n",
              "    if (outputDiv.id !== \"altair-viz-3e226ee5e9fd49918027d4106060f640\") {\n",
              "      outputDiv = document.getElementById(\"altair-viz-3e226ee5e9fd49918027d4106060f640\");\n",
              "    }\n",
              "    const paths = {\n",
              "      \"vega\": \"https://cdn.jsdelivr.net/npm//vega@5?noext\",\n",
              "      \"vega-lib\": \"https://cdn.jsdelivr.net/npm//vega-lib?noext\",\n",
              "      \"vega-lite\": \"https://cdn.jsdelivr.net/npm//vega-lite@4.8.1?noext\",\n",
              "      \"vega-embed\": \"https://cdn.jsdelivr.net/npm//vega-embed@6?noext\",\n",
              "    };\n",
              "\n",
              "    function loadScript(lib) {\n",
              "      return new Promise(function(resolve, reject) {\n",
              "        var s = document.createElement('script');\n",
              "        s.src = paths[lib];\n",
              "        s.async = true;\n",
              "        s.onload = () => resolve(paths[lib]);\n",
              "        s.onerror = () => reject(`Error loading script: ${paths[lib]}`);\n",
              "        document.getElementsByTagName(\"head\")[0].appendChild(s);\n",
              "      });\n",
              "    }\n",
              "\n",
              "    function showError(err) {\n",
              "      outputDiv.innerHTML = `<div class=\"error\" style=\"color:red;\">${err}</div>`;\n",
              "      throw err;\n",
              "    }\n",
              "\n",
              "    function displayChart(vegaEmbed) {\n",
              "      vegaEmbed(outputDiv, spec, embedOpt)\n",
              "        .catch(err => showError(`Javascript Error: ${err.message}<br>This usually means there's a typo in your chart specification. See the javascript console for the full traceback.`));\n",
              "    }\n",
              "\n",
              "    if(typeof define === \"function\" && define.amd) {\n",
              "      requirejs.config({paths});\n",
              "      require([\"vega-embed\"], displayChart, err => showError(`Error loading script: ${err.message}`));\n",
              "    } else if (typeof vegaEmbed === \"function\") {\n",
              "      displayChart(vegaEmbed);\n",
              "    } else {\n",
              "      loadScript(\"vega\")\n",
              "        .then(() => loadScript(\"vega-lite\"))\n",
              "        .then(() => loadScript(\"vega-embed\"))\n",
              "        .catch(showError)\n",
              "        .then(() => displayChart(vegaEmbed));\n",
              "    }\n",
              "  })({\"config\": {\"view\": {\"continuousWidth\": 400, \"continuousHeight\": 300}}, \"data\": {\"name\": \"data-f354349bd3bd4ad547da417e7c1bb03c\"}, \"mark\": \"line\", \"encoding\": {\"x\": {\"type\": \"temporal\", \"field\": \"hour\"}, \"y\": {\"type\": \"quantitative\", \"field\": \"num_rides\"}}, \"$schema\": \"https://vega.github.io/schema/vega-lite/v4.8.1.json\", \"datasets\": {\"data-f354349bd3bd4ad547da417e7c1bb03c\": [{\"hour\": \"2021-12-01T00:00:00\", \"num_rides\": 578}, {\"hour\": \"2021-12-01T01:00:00\", \"num_rides\": 264}, {\"hour\": \"2021-12-01T02:00:00\", \"num_rides\": 154}, {\"hour\": \"2021-12-01T03:00:00\", \"num_rides\": 102}, {\"hour\": \"2021-12-01T04:00:00\", \"num_rides\": 136}, {\"hour\": \"2021-12-01T05:00:00\", \"num_rides\": 614}, {\"hour\": \"2021-12-01T06:00:00\", \"num_rides\": 1984}, {\"hour\": \"2021-12-01T07:00:00\", \"num_rides\": 4438}, {\"hour\": \"2021-12-01T08:00:00\", \"num_rides\": 6266}, {\"hour\": \"2021-12-01T09:00:00\", \"num_rides\": 4393}, {\"hour\": \"2021-12-01T10:00:00\", \"num_rides\": 3155}, {\"hour\": \"2021-12-01T11:00:00\", \"num_rides\": 3077}, {\"hour\": \"2021-12-01T12:00:00\", \"num_rides\": 3600}, {\"hour\": \"2021-12-01T13:00:00\", \"num_rides\": 3897}, {\"hour\": \"2021-12-01T14:00:00\", \"num_rides\": 4403}, {\"hour\": \"2021-12-01T15:00:00\", \"num_rides\": 4779}, {\"hour\": \"2021-12-01T16:00:00\", \"num_rides\": 5397}, {\"hour\": \"2021-12-01T17:00:00\", \"num_rides\": 6639}, {\"hour\": \"2021-12-01T18:00:00\", \"num_rides\": 6493}, {\"hour\": \"2021-12-01T19:00:00\", \"num_rides\": 4651}, {\"hour\": \"2021-12-01T20:00:00\", \"num_rides\": 3134}, {\"hour\": \"2021-12-01T21:00:00\", \"num_rides\": 2469}, {\"hour\": \"2021-12-01T22:00:00\", \"num_rides\": 2038}, {\"hour\": \"2021-12-01T23:00:00\", \"num_rides\": 1372}, {\"hour\": \"2021-12-02T00:00:00\", \"num_rides\": 509}, {\"hour\": \"2021-12-02T01:00:00\", \"num_rides\": 254}, {\"hour\": \"2021-12-02T02:00:00\", \"num_rides\": 201}, {\"hour\": \"2021-12-02T03:00:00\", \"num_rides\": 121}, {\"hour\": \"2021-12-02T04:00:00\", \"num_rides\": 147}, {\"hour\": \"2021-12-02T05:00:00\", \"num_rides\": 549}, {\"hour\": \"2021-12-02T06:00:00\", \"num_rides\": 1572}, {\"hour\": \"2021-12-02T07:00:00\", \"num_rides\": 4219}, {\"hour\": \"2021-12-02T08:00:00\", \"num_rides\": 6514}, {\"hour\": \"2021-12-02T09:00:00\", \"num_rides\": 4501}, {\"hour\": \"2021-12-02T10:00:00\", \"num_rides\": 3332}, {\"hour\": \"2021-12-02T11:00:00\", \"num_rides\": 3381}, {\"hour\": \"2021-12-02T12:00:00\", \"num_rides\": 3808}, {\"hour\": \"2021-12-02T13:00:00\", \"num_rides\": 4041}, {\"hour\": \"2021-12-02T14:00:00\", \"num_rides\": 4845}, {\"hour\": \"2021-12-02T15:00:00\", \"num_rides\": 5267}, {\"hour\": \"2021-12-02T16:00:00\", \"num_rides\": 5851}, {\"hour\": \"2021-12-02T17:00:00\", \"num_rides\": 7260}, {\"hour\": \"2021-12-02T18:00:00\", \"num_rides\": 7283}, {\"hour\": \"2021-12-02T19:00:00\", \"num_rides\": 5348}, {\"hour\": \"2021-12-02T20:00:00\", \"num_rides\": 3712}, {\"hour\": \"2021-12-02T21:00:00\", \"num_rides\": 2778}, {\"hour\": \"2021-12-02T22:00:00\", \"num_rides\": 2269}, {\"hour\": \"2021-12-02T23:00:00\", \"num_rides\": 1600}, {\"hour\": \"2021-12-03T00:00:00\", \"num_rides\": 977}, {\"hour\": \"2021-12-03T01:00:00\", \"num_rides\": 532}, {\"hour\": \"2021-12-03T02:00:00\", \"num_rides\": 291}, {\"hour\": \"2021-12-03T03:00:00\", \"num_rides\": 180}, {\"hour\": \"2021-12-03T04:00:00\", \"num_rides\": 207}, {\"hour\": \"2021-12-03T05:00:00\", \"num_rides\": 563}, {\"hour\": \"2021-12-03T06:00:00\", \"num_rides\": 1668}, {\"hour\": \"2021-12-03T07:00:00\", \"num_rides\": 3776}, {\"hour\": \"2021-12-03T08:00:00\", \"num_rides\": 5498}, {\"hour\": \"2021-12-03T09:00:00\", \"num_rides\": 4038}, {\"hour\": \"2021-12-03T10:00:00\", \"num_rides\": 3326}, {\"hour\": \"2021-12-03T11:00:00\", \"num_rides\": 3577}, {\"hour\": \"2021-12-03T12:00:00\", \"num_rides\": 4001}, {\"hour\": \"2021-12-03T13:00:00\", \"num_rides\": 4275}, {\"hour\": \"2021-12-03T14:00:00\", \"num_rides\": 4785}, {\"hour\": \"2021-12-03T15:00:00\", \"num_rides\": 5355}, {\"hour\": \"2021-12-03T16:00:00\", \"num_rides\": 5785}, {\"hour\": \"2021-12-03T17:00:00\", \"num_rides\": 5973}, {\"hour\": \"2021-12-03T18:00:00\", \"num_rides\": 5433}, {\"hour\": \"2021-12-03T19:00:00\", \"num_rides\": 4056}, {\"hour\": \"2021-12-03T20:00:00\", \"num_rides\": 2778}, {\"hour\": \"2021-12-03T21:00:00\", \"num_rides\": 2034}, {\"hour\": \"2021-12-03T22:00:00\", \"num_rides\": 1833}, {\"hour\": \"2021-12-03T23:00:00\", \"num_rides\": 1644}, {\"hour\": \"2021-12-04T00:00:00\", \"num_rides\": 1396}, {\"hour\": \"2021-12-04T01:00:00\", \"num_rides\": 1027}, {\"hour\": \"2021-12-04T02:00:00\", \"num_rides\": 761}, {\"hour\": \"2021-12-04T03:00:00\", \"num_rides\": 435}, {\"hour\": \"2021-12-04T04:00:00\", \"num_rides\": 334}, {\"hour\": \"2021-12-04T05:00:00\", \"num_rides\": 243}, {\"hour\": \"2021-12-04T06:00:00\", \"num_rides\": 499}, {\"hour\": \"2021-12-04T07:00:00\", \"num_rides\": 1195}, {\"hour\": \"2021-12-04T08:00:00\", \"num_rides\": 1967}, {\"hour\": \"2021-12-04T09:00:00\", \"num_rides\": 3038}, {\"hour\": \"2021-12-04T10:00:00\", \"num_rides\": 4172}, {\"hour\": \"2021-12-04T11:00:00\", \"num_rides\": 5117}, {\"hour\": \"2021-12-04T12:00:00\", \"num_rides\": 5833}, {\"hour\": \"2021-12-04T13:00:00\", \"num_rides\": 5864}, {\"hour\": \"2021-12-04T14:00:00\", \"num_rides\": 5792}, {\"hour\": \"2021-12-04T15:00:00\", \"num_rides\": 5880}, {\"hour\": \"2021-12-04T16:00:00\", \"num_rides\": 5144}, {\"hour\": \"2021-12-04T17:00:00\", \"num_rides\": 4117}, {\"hour\": \"2021-12-04T18:00:00\", \"num_rides\": 3882}, {\"hour\": \"2021-12-04T19:00:00\", \"num_rides\": 3457}, {\"hour\": \"2021-12-04T20:00:00\", \"num_rides\": 2467}, {\"hour\": \"2021-12-04T21:00:00\", \"num_rides\": 1850}, {\"hour\": \"2021-12-04T22:00:00\", \"num_rides\": 1913}, {\"hour\": \"2021-12-04T23:00:00\", \"num_rides\": 1778}, {\"hour\": \"2021-12-05T00:00:00\", \"num_rides\": 1615}, {\"hour\": \"2021-12-05T01:00:00\", \"num_rides\": 1151}, {\"hour\": \"2021-12-05T02:00:00\", \"num_rides\": 760}, {\"hour\": \"2021-12-05T03:00:00\", \"num_rides\": 516}, {\"hour\": \"2021-12-05T04:00:00\", \"num_rides\": 323}, {\"hour\": \"2021-12-05T05:00:00\", \"num_rides\": 227}, {\"hour\": \"2021-12-05T06:00:00\", \"num_rides\": 425}, {\"hour\": \"2021-12-05T07:00:00\", \"num_rides\": 853}, {\"hour\": \"2021-12-05T08:00:00\", \"num_rides\": 1518}, {\"hour\": \"2021-12-05T09:00:00\", \"num_rides\": 2523}, {\"hour\": \"2021-12-05T10:00:00\", \"num_rides\": 3883}, {\"hour\": \"2021-12-05T11:00:00\", \"num_rides\": 4872}, {\"hour\": \"2021-12-05T12:00:00\", \"num_rides\": 5579}, {\"hour\": \"2021-12-05T13:00:00\", \"num_rides\": 5482}, {\"hour\": \"2021-12-05T14:00:00\", \"num_rides\": 5650}, {\"hour\": \"2021-12-05T15:00:00\", \"num_rides\": 5666}, {\"hour\": \"2021-12-05T16:00:00\", \"num_rides\": 5269}, {\"hour\": \"2021-12-05T17:00:00\", \"num_rides\": 4126}, {\"hour\": \"2021-12-05T18:00:00\", \"num_rides\": 3403}, {\"hour\": \"2021-12-05T19:00:00\", \"num_rides\": 2711}, {\"hour\": \"2021-12-05T20:00:00\", \"num_rides\": 2016}, {\"hour\": \"2021-12-05T21:00:00\", \"num_rides\": 1674}, {\"hour\": \"2021-12-05T22:00:00\", \"num_rides\": 1279}, {\"hour\": \"2021-12-05T23:00:00\", \"num_rides\": 988}, {\"hour\": \"2021-12-06T00:00:00\", \"num_rides\": 549}, {\"hour\": \"2021-12-06T01:00:00\", \"num_rides\": 216}, {\"hour\": \"2021-12-06T02:00:00\", \"num_rides\": 106}, {\"hour\": \"2021-12-06T03:00:00\", \"num_rides\": 54}, {\"hour\": \"2021-12-06T04:00:00\", \"num_rides\": 105}, {\"hour\": \"2021-12-06T05:00:00\", \"num_rides\": 527}, {\"hour\": \"2021-12-06T06:00:00\", \"num_rides\": 1677}, {\"hour\": \"2021-12-06T07:00:00\", \"num_rides\": 3661}, {\"hour\": \"2021-12-06T08:00:00\", \"num_rides\": 5460}, {\"hour\": \"2021-12-06T09:00:00\", \"num_rides\": 3680}, {\"hour\": \"2021-12-06T10:00:00\", \"num_rides\": 2757}, {\"hour\": \"2021-12-06T11:00:00\", \"num_rides\": 2921}, {\"hour\": \"2021-12-06T12:00:00\", \"num_rides\": 3422}, {\"hour\": \"2021-12-06T13:00:00\", \"num_rides\": 3938}, {\"hour\": \"2021-12-06T14:00:00\", \"num_rides\": 4510}, {\"hour\": \"2021-12-06T15:00:00\", \"num_rides\": 5214}, {\"hour\": \"2021-12-06T16:00:00\", \"num_rides\": 5719}, {\"hour\": \"2021-12-06T17:00:00\", \"num_rides\": 6967}, {\"hour\": \"2021-12-06T18:00:00\", \"num_rides\": 6688}, {\"hour\": \"2021-12-06T19:00:00\", \"num_rides\": 4060}, {\"hour\": \"2021-12-06T20:00:00\", \"num_rides\": 1527}, {\"hour\": \"2021-12-06T21:00:00\", \"num_rides\": 1595}, {\"hour\": \"2021-12-06T22:00:00\", \"num_rides\": 1384}, {\"hour\": \"2021-12-06T23:00:00\", \"num_rides\": 998}, {\"hour\": \"2021-12-07T00:00:00\", \"num_rides\": 465}, {\"hour\": \"2021-12-07T01:00:00\", \"num_rides\": 237}, {\"hour\": \"2021-12-07T02:00:00\", \"num_rides\": 147}, {\"hour\": \"2021-12-07T03:00:00\", \"num_rides\": 111}, {\"hour\": \"2021-12-07T04:00:00\", \"num_rides\": 160}, {\"hour\": \"2021-12-07T05:00:00\", \"num_rides\": 594}, {\"hour\": \"2021-12-07T06:00:00\", \"num_rides\": 2014}, {\"hour\": \"2021-12-07T07:00:00\", \"num_rides\": 4388}, {\"hour\": \"2021-12-07T08:00:00\", \"num_rides\": 6257}, {\"hour\": \"2021-12-07T09:00:00\", \"num_rides\": 4227}, {\"hour\": \"2021-12-07T10:00:00\", \"num_rides\": 2916}, {\"hour\": \"2021-12-07T11:00:00\", \"num_rides\": 2891}, {\"hour\": \"2021-12-07T12:00:00\", \"num_rides\": 3304}, {\"hour\": \"2021-12-07T13:00:00\", \"num_rides\": 3572}, {\"hour\": \"2021-12-07T14:00:00\", \"num_rides\": 3839}, {\"hour\": \"2021-12-07T15:00:00\", \"num_rides\": 4495}, {\"hour\": \"2021-12-07T16:00:00\", \"num_rides\": 5159}, {\"hour\": \"2021-12-07T17:00:00\", \"num_rides\": 6146}, {\"hour\": \"2021-12-07T18:00:00\", \"num_rides\": 4463}, {\"hour\": \"2021-12-07T19:00:00\", \"num_rides\": 4228}, {\"hour\": \"2021-12-07T20:00:00\", \"num_rides\": 2805}, {\"hour\": \"2021-12-07T21:00:00\", \"num_rides\": 2109}, {\"hour\": \"2021-12-07T22:00:00\", \"num_rides\": 1610}, {\"hour\": \"2021-12-07T23:00:00\", \"num_rides\": 1052}, {\"hour\": \"2021-12-08T00:00:00\", \"num_rides\": 736}, {\"hour\": \"2021-12-08T01:00:00\", \"num_rides\": 339}, {\"hour\": \"2021-12-08T02:00:00\", \"num_rides\": 128}, {\"hour\": \"2021-12-08T03:00:00\", \"num_rides\": 103}, {\"hour\": \"2021-12-08T04:00:00\", \"num_rides\": 155}, {\"hour\": \"2021-12-08T05:00:00\", \"num_rides\": 633}, {\"hour\": \"2021-12-08T06:00:00\", \"num_rides\": 1921}, {\"hour\": \"2021-12-08T07:00:00\", \"num_rides\": 4241}, {\"hour\": \"2021-12-08T08:00:00\", \"num_rides\": 6125}, {\"hour\": \"2021-12-08T09:00:00\", \"num_rides\": 4207}, {\"hour\": \"2021-12-08T10:00:00\", \"num_rides\": 2968}, {\"hour\": \"2021-12-08T11:00:00\", \"num_rides\": 3009}, {\"hour\": \"2021-12-08T12:00:00\", \"num_rides\": 3241}, {\"hour\": \"2021-12-08T13:00:00\", \"num_rides\": 3442}, {\"hour\": \"2021-12-08T14:00:00\", \"num_rides\": 3994}, {\"hour\": \"2021-12-08T15:00:00\", \"num_rides\": 4556}, {\"hour\": \"2021-12-08T16:00:00\", \"num_rides\": 5142}, {\"hour\": \"2021-12-08T17:00:00\", \"num_rides\": 6262}, {\"hour\": \"2021-12-08T18:00:00\", \"num_rides\": 6039}, {\"hour\": \"2021-12-08T19:00:00\", \"num_rides\": 3391}, {\"hour\": \"2021-12-08T20:00:00\", \"num_rides\": 1433}, {\"hour\": \"2021-12-08T21:00:00\", \"num_rides\": 1282}, {\"hour\": \"2021-12-08T22:00:00\", \"num_rides\": 1464}, {\"hour\": \"2021-12-08T23:00:00\", \"num_rides\": 1065}, {\"hour\": \"2021-12-09T00:00:00\", \"num_rides\": 636}, {\"hour\": \"2021-12-09T01:00:00\", \"num_rides\": 256}, {\"hour\": \"2021-12-09T02:00:00\", \"num_rides\": 171}, {\"hour\": \"2021-12-09T03:00:00\", \"num_rides\": 97}, {\"hour\": \"2021-12-09T04:00:00\", \"num_rides\": 171}, {\"hour\": \"2021-12-09T05:00:00\", \"num_rides\": 547}, {\"hour\": \"2021-12-09T06:00:00\", \"num_rides\": 1722}, {\"hour\": \"2021-12-09T07:00:00\", \"num_rides\": 3983}, {\"hour\": \"2021-12-09T08:00:00\", \"num_rides\": 5675}, {\"hour\": \"2021-12-09T09:00:00\", \"num_rides\": 3930}, {\"hour\": \"2021-12-09T10:00:00\", \"num_rides\": 2847}, {\"hour\": \"2021-12-09T11:00:00\", \"num_rides\": 2746}, {\"hour\": \"2021-12-09T12:00:00\", \"num_rides\": 3383}, {\"hour\": \"2021-12-09T13:00:00\", \"num_rides\": 3268}, {\"hour\": \"2021-12-09T14:00:00\", \"num_rides\": 3895}, {\"hour\": \"2021-12-09T15:00:00\", \"num_rides\": 4335}, {\"hour\": \"2021-12-09T16:00:00\", \"num_rides\": 4978}, {\"hour\": \"2021-12-09T17:00:00\", \"num_rides\": 5874}, {\"hour\": \"2021-12-09T18:00:00\", \"num_rides\": 5683}, {\"hour\": \"2021-12-09T19:00:00\", \"num_rides\": 4209}, {\"hour\": \"2021-12-09T20:00:00\", \"num_rides\": 2827}, {\"hour\": \"2021-12-09T21:00:00\", \"num_rides\": 2150}, {\"hour\": \"2021-12-09T22:00:00\", \"num_rides\": 1768}, {\"hour\": \"2021-12-09T23:00:00\", \"num_rides\": 1402}, {\"hour\": \"2021-12-10T00:00:00\", \"num_rides\": 891}, {\"hour\": \"2021-12-10T01:00:00\", \"num_rides\": 464}, {\"hour\": \"2021-12-10T02:00:00\", \"num_rides\": 284}, {\"hour\": \"2021-12-10T03:00:00\", \"num_rides\": 197}, {\"hour\": \"2021-12-10T04:00:00\", \"num_rides\": 209}, {\"hour\": \"2021-12-10T05:00:00\", \"num_rides\": 575}, {\"hour\": \"2021-12-10T06:00:00\", \"num_rides\": 1641}, {\"hour\": \"2021-12-10T07:00:00\", \"num_rides\": 3572}, {\"hour\": \"2021-12-10T08:00:00\", \"num_rides\": 5146}, {\"hour\": \"2021-12-10T09:00:00\", \"num_rides\": 3990}, {\"hour\": \"2021-12-10T10:00:00\", \"num_rides\": 3285}, {\"hour\": \"2021-12-10T11:00:00\", \"num_rides\": 3576}, {\"hour\": \"2021-12-10T12:00:00\", \"num_rides\": 4047}, {\"hour\": \"2021-12-10T13:00:00\", \"num_rides\": 4363}, {\"hour\": \"2021-12-10T14:00:00\", \"num_rides\": 5089}, {\"hour\": \"2021-12-10T15:00:00\", \"num_rides\": 5771}, {\"hour\": \"2021-12-10T16:00:00\", \"num_rides\": 6058}, {\"hour\": \"2021-12-10T17:00:00\", \"num_rides\": 6310}, {\"hour\": \"2021-12-10T18:00:00\", \"num_rides\": 5743}, {\"hour\": \"2021-12-10T19:00:00\", \"num_rides\": 4574}, {\"hour\": \"2021-12-10T20:00:00\", \"num_rides\": 3212}, {\"hour\": \"2021-12-10T21:00:00\", \"num_rides\": 2435}, {\"hour\": \"2021-12-10T22:00:00\", \"num_rides\": 2169}, {\"hour\": \"2021-12-10T23:00:00\", \"num_rides\": 1992}, {\"hour\": \"2021-12-11T00:00:00\", \"num_rides\": 1677}, {\"hour\": \"2021-12-11T01:00:00\", \"num_rides\": 1315}, {\"hour\": \"2021-12-11T02:00:00\", \"num_rides\": 841}, {\"hour\": \"2021-12-11T03:00:00\", \"num_rides\": 309}, {\"hour\": \"2021-12-11T04:00:00\", \"num_rides\": 176}, {\"hour\": \"2021-12-11T05:00:00\", \"num_rides\": 158}, {\"hour\": \"2021-12-11T06:00:00\", \"num_rides\": 374}, {\"hour\": \"2021-12-11T07:00:00\", \"num_rides\": 764}, {\"hour\": \"2021-12-11T08:00:00\", \"num_rides\": 1510}, {\"hour\": \"2021-12-11T09:00:00\", \"num_rides\": 2499}, {\"hour\": \"2021-12-11T10:00:00\", \"num_rides\": 3447}, {\"hour\": \"2021-12-11T11:00:00\", \"num_rides\": 4271}, {\"hour\": \"2021-12-11T12:00:00\", \"num_rides\": 5080}, {\"hour\": \"2021-12-11T13:00:00\", \"num_rides\": 5481}, {\"hour\": \"2021-12-11T14:00:00\", \"num_rides\": 5880}, {\"hour\": \"2021-12-11T15:00:00\", \"num_rides\": 6031}, {\"hour\": \"2021-12-11T16:00:00\", \"num_rides\": 5426}, {\"hour\": \"2021-12-11T17:00:00\", \"num_rides\": 4629}, {\"hour\": \"2021-12-11T18:00:00\", \"num_rides\": 4427}, {\"hour\": \"2021-12-11T19:00:00\", \"num_rides\": 3599}, {\"hour\": \"2021-12-11T20:00:00\", \"num_rides\": 2347}, {\"hour\": \"2021-12-11T21:00:00\", \"num_rides\": 1487}, {\"hour\": \"2021-12-11T22:00:00\", \"num_rides\": 998}, {\"hour\": \"2021-12-11T23:00:00\", \"num_rides\": 1535}, {\"hour\": \"2021-12-12T00:00:00\", \"num_rides\": 1583}, {\"hour\": \"2021-12-12T01:00:00\", \"num_rides\": 1219}, {\"hour\": \"2021-12-12T02:00:00\", \"num_rides\": 771}, {\"hour\": \"2021-12-12T03:00:00\", \"num_rides\": 449}, {\"hour\": \"2021-12-12T04:00:00\", \"num_rides\": 267}, {\"hour\": \"2021-12-12T05:00:00\", \"num_rides\": 214}, {\"hour\": \"2021-12-12T06:00:00\", \"num_rides\": 386}, {\"hour\": \"2021-12-12T07:00:00\", \"num_rides\": 826}, {\"hour\": \"2021-12-12T08:00:00\", \"num_rides\": 1374}, {\"hour\": \"2021-12-12T09:00:00\", \"num_rides\": 2327}, {\"hour\": \"2021-12-12T10:00:00\", \"num_rides\": 3704}, {\"hour\": \"2021-12-12T11:00:00\", \"num_rides\": 4723}, {\"hour\": \"2021-12-12T12:00:00\", \"num_rides\": 5519}, {\"hour\": \"2021-12-12T13:00:00\", \"num_rides\": 5543}, {\"hour\": \"2021-12-12T14:00:00\", \"num_rides\": 5881}, {\"hour\": \"2021-12-12T15:00:00\", \"num_rides\": 5759}, {\"hour\": \"2021-12-12T16:00:00\", \"num_rides\": 5336}, {\"hour\": \"2021-12-12T17:00:00\", \"num_rides\": 4233}, {\"hour\": \"2021-12-12T18:00:00\", \"num_rides\": 3500}, {\"hour\": \"2021-12-12T19:00:00\", \"num_rides\": 2583}, {\"hour\": \"2021-12-12T20:00:00\", \"num_rides\": 2139}, {\"hour\": \"2021-12-12T21:00:00\", \"num_rides\": 1601}, {\"hour\": \"2021-12-12T22:00:00\", \"num_rides\": 1319}, {\"hour\": \"2021-12-12T23:00:00\", \"num_rides\": 853}, {\"hour\": \"2021-12-13T00:00:00\", \"num_rides\": 527}, {\"hour\": \"2021-12-13T01:00:00\", \"num_rides\": 259}, {\"hour\": \"2021-12-13T02:00:00\", \"num_rides\": 182}, {\"hour\": \"2021-12-13T03:00:00\", \"num_rides\": 123}, {\"hour\": \"2021-12-13T04:00:00\", \"num_rides\": 165}, {\"hour\": \"2021-12-13T05:00:00\", \"num_rides\": 584}, {\"hour\": \"2021-12-13T06:00:00\", \"num_rides\": 1658}, {\"hour\": \"2021-12-13T07:00:00\", \"num_rides\": 3687}, {\"hour\": \"2021-12-13T08:00:00\", \"num_rides\": 5322}, {\"hour\": \"2021-12-13T09:00:00\", \"num_rides\": 3718}, {\"hour\": \"2021-12-13T10:00:00\", \"num_rides\": 2868}, {\"hour\": \"2021-12-13T11:00:00\", \"num_rides\": 2980}, {\"hour\": \"2021-12-13T12:00:00\", \"num_rides\": 3405}, {\"hour\": \"2021-12-13T13:00:00\", \"num_rides\": 3743}, {\"hour\": \"2021-12-13T14:00:00\", \"num_rides\": 4392}, {\"hour\": \"2021-12-13T15:00:00\", \"num_rides\": 5130}, {\"hour\": \"2021-12-13T16:00:00\", \"num_rides\": 5535}, {\"hour\": \"2021-12-13T17:00:00\", \"num_rides\": 6287}, {\"hour\": \"2021-12-13T18:00:00\", \"num_rides\": 5880}, {\"hour\": \"2021-12-13T19:00:00\", \"num_rides\": 4283}, {\"hour\": \"2021-12-13T20:00:00\", \"num_rides\": 2945}, {\"hour\": \"2021-12-13T21:00:00\", \"num_rides\": 2021}, {\"hour\": \"2021-12-13T22:00:00\", \"num_rides\": 1567}, {\"hour\": \"2021-12-13T23:00:00\", \"num_rides\": 1038}, {\"hour\": \"2021-12-14T00:00:00\", \"num_rides\": 575}, {\"hour\": \"2021-12-14T01:00:00\", \"num_rides\": 292}, {\"hour\": \"2021-12-14T02:00:00\", \"num_rides\": 141}, {\"hour\": \"2021-12-14T03:00:00\", \"num_rides\": 107}, {\"hour\": \"2021-12-14T04:00:00\", \"num_rides\": 147}, {\"hour\": \"2021-12-14T05:00:00\", \"num_rides\": 626}, {\"hour\": \"2021-12-14T06:00:00\", \"num_rides\": 1910}, {\"hour\": \"2021-12-14T07:00:00\", \"num_rides\": 4446}, {\"hour\": \"2021-12-14T08:00:00\", \"num_rides\": 6312}, {\"hour\": \"2021-12-14T09:00:00\", \"num_rides\": 4287}, {\"hour\": \"2021-12-14T10:00:00\", \"num_rides\": 3281}, {\"hour\": \"2021-12-14T11:00:00\", \"num_rides\": 3376}, {\"hour\": \"2021-12-14T12:00:00\", \"num_rides\": 3801}, {\"hour\": \"2021-12-14T13:00:00\", \"num_rides\": 4082}, {\"hour\": \"2021-12-14T14:00:00\", \"num_rides\": 4728}, {\"hour\": \"2021-12-14T15:00:00\", \"num_rides\": 5313}, {\"hour\": \"2021-12-14T16:00:00\", \"num_rides\": 5979}, {\"hour\": \"2021-12-14T17:00:00\", \"num_rides\": 6835}, {\"hour\": \"2021-12-14T18:00:00\", \"num_rides\": 6520}, {\"hour\": \"2021-12-14T19:00:00\", \"num_rides\": 4517}, {\"hour\": \"2021-12-14T20:00:00\", \"num_rides\": 2968}, {\"hour\": \"2021-12-14T21:00:00\", \"num_rides\": 2288}, {\"hour\": \"2021-12-14T22:00:00\", \"num_rides\": 2007}, {\"hour\": \"2021-12-14T23:00:00\", \"num_rides\": 1165}, {\"hour\": \"2021-12-15T00:00:00\", \"num_rides\": 658}, {\"hour\": \"2021-12-15T01:00:00\", \"num_rides\": 365}, {\"hour\": \"2021-12-15T02:00:00\", \"num_rides\": 196}, {\"hour\": \"2021-12-15T03:00:00\", \"num_rides\": 119}, {\"hour\": \"2021-12-15T04:00:00\", \"num_rides\": 154}, {\"hour\": \"2021-12-15T05:00:00\", \"num_rides\": 564}, {\"hour\": \"2021-12-15T06:00:00\", \"num_rides\": 1816}, {\"hour\": \"2021-12-15T07:00:00\", \"num_rides\": 4184}, {\"hour\": \"2021-12-15T08:00:00\", \"num_rides\": 5833}, {\"hour\": \"2021-12-15T09:00:00\", \"num_rides\": 4188}, {\"hour\": \"2021-12-15T10:00:00\", \"num_rides\": 3252}, {\"hour\": \"2021-12-15T11:00:00\", \"num_rides\": 3472}, {\"hour\": \"2021-12-15T12:00:00\", \"num_rides\": 4009}, {\"hour\": \"2021-12-15T13:00:00\", \"num_rides\": 4315}, {\"hour\": \"2021-12-15T14:00:00\", \"num_rides\": 4598}, {\"hour\": \"2021-12-15T15:00:00\", \"num_rides\": 4940}, {\"hour\": \"2021-12-15T16:00:00\", \"num_rides\": 5191}, {\"hour\": \"2021-12-15T17:00:00\", \"num_rides\": 5977}, {\"hour\": \"2021-12-15T18:00:00\", \"num_rides\": 6236}, {\"hour\": \"2021-12-15T19:00:00\", \"num_rides\": 4577}, {\"hour\": \"2021-12-15T20:00:00\", \"num_rides\": 3116}, {\"hour\": \"2021-12-15T21:00:00\", \"num_rides\": 2329}, {\"hour\": \"2021-12-15T22:00:00\", \"num_rides\": 1797}, {\"hour\": \"2021-12-15T23:00:00\", \"num_rides\": 1217}, {\"hour\": \"2021-12-16T00:00:00\", \"num_rides\": 736}, {\"hour\": \"2021-12-16T01:00:00\", \"num_rides\": 439}, {\"hour\": \"2021-12-16T02:00:00\", \"num_rides\": 221}, {\"hour\": \"2021-12-16T03:00:00\", \"num_rides\": 141}, {\"hour\": \"2021-12-16T04:00:00\", \"num_rides\": 168}, {\"hour\": \"2021-12-16T05:00:00\", \"num_rides\": 624}, {\"hour\": \"2021-12-16T06:00:00\", \"num_rides\": 1848}, {\"hour\": \"2021-12-16T07:00:00\", \"num_rides\": 3990}, {\"hour\": \"2021-12-16T08:00:00\", \"num_rides\": 5714}, {\"hour\": \"2021-12-16T09:00:00\", \"num_rides\": 4174}, {\"hour\": \"2021-12-16T10:00:00\", \"num_rides\": 3558}, {\"hour\": \"2021-12-16T11:00:00\", \"num_rides\": 4044}, {\"hour\": \"2021-12-16T12:00:00\", \"num_rides\": 4492}, {\"hour\": \"2021-12-16T13:00:00\", \"num_rides\": 4740}, {\"hour\": \"2021-12-16T14:00:00\", \"num_rides\": 5328}, {\"hour\": \"2021-12-16T15:00:00\", \"num_rides\": 6043}, {\"hour\": \"2021-12-16T16:00:00\", \"num_rides\": 6377}, {\"hour\": \"2021-12-16T17:00:00\", \"num_rides\": 6790}, {\"hour\": \"2021-12-16T18:00:00\", \"num_rides\": 6504}, {\"hour\": \"2021-12-16T19:00:00\", \"num_rides\": 4821}, {\"hour\": \"2021-12-16T20:00:00\", \"num_rides\": 3256}, {\"hour\": \"2021-12-16T21:00:00\", \"num_rides\": 2586}, {\"hour\": \"2021-12-16T22:00:00\", \"num_rides\": 2339}, {\"hour\": \"2021-12-16T23:00:00\", \"num_rides\": 1674}, {\"hour\": \"2021-12-17T00:00:00\", \"num_rides\": 1080}, {\"hour\": \"2021-12-17T01:00:00\", \"num_rides\": 597}, {\"hour\": \"2021-12-17T02:00:00\", \"num_rides\": 339}, {\"hour\": \"2021-12-17T03:00:00\", \"num_rides\": 223}, {\"hour\": \"2021-12-17T04:00:00\", \"num_rides\": 208}, {\"hour\": \"2021-12-17T05:00:00\", \"num_rides\": 549}, {\"hour\": \"2021-12-17T06:00:00\", \"num_rides\": 1650}, {\"hour\": \"2021-12-17T07:00:00\", \"num_rides\": 3494}, {\"hour\": \"2021-12-17T08:00:00\", \"num_rides\": 4845}, {\"hour\": \"2021-12-17T09:00:00\", \"num_rides\": 4034}, {\"hour\": \"2021-12-17T10:00:00\", \"num_rides\": 3825}, {\"hour\": \"2021-12-17T11:00:00\", \"num_rides\": 4375}, {\"hour\": \"2021-12-17T12:00:00\", \"num_rides\": 5052}, {\"hour\": \"2021-12-17T13:00:00\", \"num_rides\": 5354}, {\"hour\": \"2021-12-17T14:00:00\", \"num_rides\": 5981}, {\"hour\": \"2021-12-17T15:00:00\", \"num_rides\": 6420}, {\"hour\": \"2021-12-17T16:00:00\", \"num_rides\": 6341}, {\"hour\": \"2021-12-17T17:00:00\", \"num_rides\": 6028}, {\"hour\": \"2021-12-17T18:00:00\", \"num_rides\": 5307}, {\"hour\": \"2021-12-17T19:00:00\", \"num_rides\": 4019}, {\"hour\": \"2021-12-17T20:00:00\", \"num_rides\": 2926}, {\"hour\": \"2021-12-17T21:00:00\", \"num_rides\": 2075}, {\"hour\": \"2021-12-17T22:00:00\", \"num_rides\": 1745}, {\"hour\": \"2021-12-17T23:00:00\", \"num_rides\": 1568}, {\"hour\": \"2021-12-18T00:00:00\", \"num_rides\": 1062}, {\"hour\": \"2021-12-18T01:00:00\", \"num_rides\": 759}, {\"hour\": \"2021-12-18T02:00:00\", \"num_rides\": 483}, {\"hour\": \"2021-12-18T03:00:00\", \"num_rides\": 308}, {\"hour\": \"2021-12-18T04:00:00\", \"num_rides\": 199}, {\"hour\": \"2021-12-18T05:00:00\", \"num_rides\": 196}, {\"hour\": \"2021-12-18T06:00:00\", \"num_rides\": 436}, {\"hour\": \"2021-12-18T07:00:00\", \"num_rides\": 620}, {\"hour\": \"2021-12-18T08:00:00\", \"num_rides\": 922}, {\"hour\": \"2021-12-18T09:00:00\", \"num_rides\": 1292}, {\"hour\": \"2021-12-18T10:00:00\", \"num_rides\": 1533}, {\"hour\": \"2021-12-18T11:00:00\", \"num_rides\": 2248}, {\"hour\": \"2021-12-18T12:00:00\", \"num_rides\": 3202}, {\"hour\": \"2021-12-18T13:00:00\", \"num_rides\": 3556}, {\"hour\": \"2021-12-18T14:00:00\", \"num_rides\": 4041}, {\"hour\": \"2021-12-18T15:00:00\", \"num_rides\": 4199}, {\"hour\": \"2021-12-18T16:00:00\", \"num_rides\": 3323}, {\"hour\": \"2021-12-18T17:00:00\", \"num_rides\": 2645}, {\"hour\": \"2021-12-18T18:00:00\", \"num_rides\": 2403}, {\"hour\": \"2021-12-18T19:00:00\", \"num_rides\": 1800}, {\"hour\": \"2021-12-18T20:00:00\", \"num_rides\": 1220}, {\"hour\": \"2021-12-18T21:00:00\", \"num_rides\": 1040}, {\"hour\": \"2021-12-18T22:00:00\", \"num_rides\": 1032}, {\"hour\": \"2021-12-18T23:00:00\", \"num_rides\": 994}, {\"hour\": \"2021-12-19T00:00:00\", \"num_rides\": 754}, {\"hour\": \"2021-12-19T01:00:00\", \"num_rides\": 478}, {\"hour\": \"2021-12-19T02:00:00\", \"num_rides\": 275}, {\"hour\": \"2021-12-19T03:00:00\", \"num_rides\": 198}, {\"hour\": \"2021-12-19T04:00:00\", \"num_rides\": 152}, {\"hour\": \"2021-12-19T05:00:00\", \"num_rides\": 154}, {\"hour\": \"2021-12-19T06:00:00\", \"num_rides\": 323}, {\"hour\": \"2021-12-19T07:00:00\", \"num_rides\": 628}, {\"hour\": \"2021-12-19T08:00:00\", \"num_rides\": 1238}, {\"hour\": \"2021-12-19T09:00:00\", \"num_rides\": 1916}, {\"hour\": \"2021-12-19T10:00:00\", \"num_rides\": 2680}, {\"hour\": \"2021-12-19T11:00:00\", \"num_rides\": 3326}, {\"hour\": \"2021-12-19T12:00:00\", \"num_rides\": 3701}, {\"hour\": \"2021-12-19T13:00:00\", \"num_rides\": 3852}, {\"hour\": \"2021-12-19T14:00:00\", \"num_rides\": 3924}, {\"hour\": \"2021-12-19T15:00:00\", \"num_rides\": 3641}, {\"hour\": \"2021-12-19T16:00:00\", \"num_rides\": 3397}, {\"hour\": \"2021-12-19T17:00:00\", \"num_rides\": 2572}, {\"hour\": \"2021-12-19T18:00:00\", \"num_rides\": 2083}, {\"hour\": \"2021-12-19T19:00:00\", \"num_rides\": 1720}, {\"hour\": \"2021-12-19T20:00:00\", \"num_rides\": 1218}, {\"hour\": \"2021-12-19T21:00:00\", \"num_rides\": 871}, {\"hour\": \"2021-12-19T22:00:00\", \"num_rides\": 696}, {\"hour\": \"2021-12-19T23:00:00\", \"num_rides\": 513}, {\"hour\": \"2021-12-20T00:00:00\", \"num_rides\": 332}, {\"hour\": \"2021-12-20T01:00:00\", \"num_rides\": 189}, {\"hour\": \"2021-12-20T02:00:00\", \"num_rides\": 109}, {\"hour\": \"2021-12-20T03:00:00\", \"num_rides\": 64}, {\"hour\": \"2021-12-20T04:00:00\", \"num_rides\": 138}, {\"hour\": \"2021-12-20T05:00:00\", \"num_rides\": 378}, {\"hour\": \"2021-12-20T06:00:00\", \"num_rides\": 1066}, {\"hour\": \"2021-12-20T07:00:00\", \"num_rides\": 2151}, {\"hour\": \"2021-12-20T08:00:00\", \"num_rides\": 2915}, {\"hour\": \"2021-12-20T09:00:00\", \"num_rides\": 2442}, {\"hour\": \"2021-12-20T10:00:00\", \"num_rides\": 2135}, {\"hour\": \"2021-12-20T11:00:00\", \"num_rides\": 2420}, {\"hour\": \"2021-12-20T12:00:00\", \"num_rides\": 2785}, {\"hour\": \"2021-12-20T13:00:00\", \"num_rides\": 3044}, {\"hour\": \"2021-12-20T14:00:00\", \"num_rides\": 3668}, {\"hour\": \"2021-12-20T15:00:00\", \"num_rides\": 3788}, {\"hour\": \"2021-12-20T16:00:00\", \"num_rides\": 4032}, {\"hour\": \"2021-12-20T17:00:00\", \"num_rides\": 3957}, {\"hour\": \"2021-12-20T18:00:00\", \"num_rides\": 3350}, {\"hour\": \"2021-12-20T19:00:00\", \"num_rides\": 2354}, {\"hour\": \"2021-12-20T20:00:00\", \"num_rides\": 1578}, {\"hour\": \"2021-12-20T21:00:00\", \"num_rides\": 1135}, {\"hour\": \"2021-12-20T22:00:00\", \"num_rides\": 904}, {\"hour\": \"2021-12-20T23:00:00\", \"num_rides\": 606}, {\"hour\": \"2021-12-21T00:00:00\", \"num_rides\": 359}, {\"hour\": \"2021-12-21T01:00:00\", \"num_rides\": 206}, {\"hour\": \"2021-12-21T02:00:00\", \"num_rides\": 131}, {\"hour\": \"2021-12-21T03:00:00\", \"num_rides\": 92}, {\"hour\": \"2021-12-21T04:00:00\", \"num_rides\": 122}, {\"hour\": \"2021-12-21T05:00:00\", \"num_rides\": 386}, {\"hour\": \"2021-12-21T06:00:00\", \"num_rides\": 1088}, {\"hour\": \"2021-12-21T07:00:00\", \"num_rides\": 2216}, {\"hour\": \"2021-12-21T08:00:00\", \"num_rides\": 3160}, {\"hour\": \"2021-12-21T09:00:00\", \"num_rides\": 2695}, {\"hour\": \"2021-12-21T10:00:00\", \"num_rides\": 2439}, {\"hour\": \"2021-12-21T11:00:00\", \"num_rides\": 2954}, {\"hour\": \"2021-12-21T12:00:00\", \"num_rides\": 3209}, {\"hour\": \"2021-12-21T13:00:00\", \"num_rides\": 3568}, {\"hour\": \"2021-12-21T14:00:00\", \"num_rides\": 3979}, {\"hour\": \"2021-12-21T15:00:00\", \"num_rides\": 4230}, {\"hour\": \"2021-12-21T16:00:00\", \"num_rides\": 4460}, {\"hour\": \"2021-12-21T17:00:00\", \"num_rides\": 4187}, {\"hour\": \"2021-12-21T18:00:00\", \"num_rides\": 3704}, {\"hour\": \"2021-12-21T19:00:00\", \"num_rides\": 2704}, {\"hour\": \"2021-12-21T20:00:00\", \"num_rides\": 1818}, {\"hour\": \"2021-12-21T21:00:00\", \"num_rides\": 1351}, {\"hour\": \"2021-12-21T22:00:00\", \"num_rides\": 1127}, {\"hour\": \"2021-12-21T23:00:00\", \"num_rides\": 766}, {\"hour\": \"2021-12-22T00:00:00\", \"num_rides\": 449}, {\"hour\": \"2021-12-22T01:00:00\", \"num_rides\": 240}, {\"hour\": \"2021-12-22T02:00:00\", \"num_rides\": 146}, {\"hour\": \"2021-12-22T03:00:00\", \"num_rides\": 86}, {\"hour\": \"2021-12-22T04:00:00\", \"num_rides\": 122}, {\"hour\": \"2021-12-22T05:00:00\", \"num_rides\": 175}, {\"hour\": \"2021-12-22T06:00:00\", \"num_rides\": 586}, {\"hour\": \"2021-12-22T07:00:00\", \"num_rides\": 139}, {\"hour\": \"2021-12-22T08:00:00\", \"num_rides\": 2}, {\"hour\": \"2021-12-22T09:00:00\", \"num_rides\": 1564}, {\"hour\": \"2021-12-22T10:00:00\", \"num_rides\": 2515}, {\"hour\": \"2021-12-22T11:00:00\", \"num_rides\": 2935}, {\"hour\": \"2021-12-22T12:00:00\", \"num_rides\": 3576}, {\"hour\": \"2021-12-22T13:00:00\", \"num_rides\": 3758}, {\"hour\": \"2021-12-22T14:00:00\", \"num_rides\": 4121}, {\"hour\": \"2021-12-22T15:00:00\", \"num_rides\": 4381}, {\"hour\": \"2021-12-22T16:00:00\", \"num_rides\": 4237}, {\"hour\": \"2021-12-22T17:00:00\", \"num_rides\": 3714}, {\"hour\": \"2021-12-22T18:00:00\", \"num_rides\": 3021}, {\"hour\": \"2021-12-22T19:00:00\", \"num_rides\": 2179}, {\"hour\": \"2021-12-22T20:00:00\", \"num_rides\": 1455}, {\"hour\": \"2021-12-22T21:00:00\", \"num_rides\": 1010}, {\"hour\": \"2021-12-22T22:00:00\", \"num_rides\": 914}, {\"hour\": \"2021-12-22T23:00:00\", \"num_rides\": 601}, {\"hour\": \"2021-12-23T00:00:00\", \"num_rides\": 377}, {\"hour\": \"2021-12-23T01:00:00\", \"num_rides\": 246}, {\"hour\": \"2021-12-23T02:00:00\", \"num_rides\": 133}, {\"hour\": \"2021-12-23T03:00:00\", \"num_rides\": 90}, {\"hour\": \"2021-12-23T04:00:00\", \"num_rides\": 107}, {\"hour\": \"2021-12-23T05:00:00\", \"num_rides\": 284}, {\"hour\": \"2021-12-23T06:00:00\", \"num_rides\": 797}, {\"hour\": \"2021-12-23T07:00:00\", \"num_rides\": 1565}, {\"hour\": \"2021-12-23T08:00:00\", \"num_rides\": 2195}, {\"hour\": \"2021-12-23T09:00:00\", \"num_rides\": 2113}, {\"hour\": \"2021-12-23T10:00:00\", \"num_rides\": 2275}, {\"hour\": \"2021-12-23T11:00:00\", \"num_rides\": 2581}, {\"hour\": \"2021-12-23T12:00:00\", \"num_rides\": 2995}, {\"hour\": \"2021-12-23T13:00:00\", \"num_rides\": 3323}, {\"hour\": \"2021-12-23T14:00:00\", \"num_rides\": 3704}, {\"hour\": \"2021-12-23T15:00:00\", \"num_rides\": 3799}, {\"hour\": \"2021-12-23T16:00:00\", \"num_rides\": 3445}, {\"hour\": \"2021-12-23T17:00:00\", \"num_rides\": 3053}, {\"hour\": \"2021-12-23T18:00:00\", \"num_rides\": 2506}, {\"hour\": \"2021-12-23T19:00:00\", \"num_rides\": 1796}, {\"hour\": \"2021-12-23T20:00:00\", \"num_rides\": 1404}, {\"hour\": \"2021-12-23T21:00:00\", \"num_rides\": 1034}, {\"hour\": \"2021-12-23T22:00:00\", \"num_rides\": 859}, {\"hour\": \"2021-12-23T23:00:00\", \"num_rides\": 603}, {\"hour\": \"2021-12-24T00:00:00\", \"num_rides\": 403}, {\"hour\": \"2021-12-24T01:00:00\", \"num_rides\": 214}, {\"hour\": \"2021-12-24T02:00:00\", \"num_rides\": 165}, {\"hour\": \"2021-12-24T03:00:00\", \"num_rides\": 60}, {\"hour\": \"2021-12-24T04:00:00\", \"num_rides\": 60}, {\"hour\": \"2021-12-24T05:00:00\", \"num_rides\": 92}, {\"hour\": \"2021-12-24T06:00:00\", \"num_rides\": 278}, {\"hour\": \"2021-12-24T07:00:00\", \"num_rides\": 515}, {\"hour\": \"2021-12-24T08:00:00\", \"num_rides\": 942}, {\"hour\": \"2021-12-24T09:00:00\", \"num_rides\": 1459}, {\"hour\": \"2021-12-24T10:00:00\", \"num_rides\": 2085}, {\"hour\": \"2021-12-24T11:00:00\", \"num_rides\": 2513}, {\"hour\": \"2021-12-24T12:00:00\", \"num_rides\": 2834}, {\"hour\": \"2021-12-24T13:00:00\", \"num_rides\": 3099}, {\"hour\": \"2021-12-24T14:00:00\", \"num_rides\": 3388}, {\"hour\": \"2021-12-24T15:00:00\", \"num_rides\": 3336}, {\"hour\": \"2021-12-24T16:00:00\", \"num_rides\": 2794}, {\"hour\": \"2021-12-24T17:00:00\", \"num_rides\": 1962}, {\"hour\": \"2021-12-24T18:00:00\", \"num_rides\": 1491}, {\"hour\": \"2021-12-24T19:00:00\", \"num_rides\": 1133}, {\"hour\": \"2021-12-24T20:00:00\", \"num_rides\": 773}, {\"hour\": \"2021-12-24T21:00:00\", \"num_rides\": 608}, {\"hour\": \"2021-12-24T22:00:00\", \"num_rides\": 593}, {\"hour\": \"2021-12-24T23:00:00\", \"num_rides\": 522}, {\"hour\": \"2021-12-25T00:00:00\", \"num_rides\": 361}, {\"hour\": \"2021-12-25T01:00:00\", \"num_rides\": 226}, {\"hour\": \"2021-12-25T02:00:00\", \"num_rides\": 148}, {\"hour\": \"2021-12-25T03:00:00\", \"num_rides\": 53}, {\"hour\": \"2021-12-25T04:00:00\", \"num_rides\": 41}, {\"hour\": \"2021-12-25T05:00:00\", \"num_rides\": 53}, {\"hour\": \"2021-12-25T06:00:00\", \"num_rides\": 135}, {\"hour\": \"2021-12-25T07:00:00\", \"num_rides\": 264}, {\"hour\": \"2021-12-25T08:00:00\", \"num_rides\": 299}, {\"hour\": \"2021-12-25T09:00:00\", \"num_rides\": 300}, {\"hour\": \"2021-12-25T10:00:00\", \"num_rides\": 412}, {\"hour\": \"2021-12-25T11:00:00\", \"num_rides\": 433}, {\"hour\": \"2021-12-25T12:00:00\", \"num_rides\": 608}, {\"hour\": \"2021-12-25T13:00:00\", \"num_rides\": 1081}, {\"hour\": \"2021-12-25T14:00:00\", \"num_rides\": 1631}, {\"hour\": \"2021-12-25T15:00:00\", \"num_rides\": 2031}, {\"hour\": \"2021-12-25T16:00:00\", \"num_rides\": 1775}, {\"hour\": \"2021-12-25T17:00:00\", \"num_rides\": 1281}, {\"hour\": \"2021-12-25T18:00:00\", \"num_rides\": 1138}, {\"hour\": \"2021-12-25T19:00:00\", \"num_rides\": 1034}, {\"hour\": \"2021-12-25T20:00:00\", \"num_rides\": 874}, {\"hour\": \"2021-12-25T21:00:00\", \"num_rides\": 808}, {\"hour\": \"2021-12-25T22:00:00\", \"num_rides\": 759}, {\"hour\": \"2021-12-25T23:00:00\", \"num_rides\": 661}, {\"hour\": \"2021-12-26T00:00:00\", \"num_rides\": 450}, {\"hour\": \"2021-12-26T01:00:00\", \"num_rides\": 288}, {\"hour\": \"2021-12-26T02:00:00\", \"num_rides\": 136}, {\"hour\": \"2021-12-26T03:00:00\", \"num_rides\": 112}, {\"hour\": \"2021-12-26T04:00:00\", \"num_rides\": 80}, {\"hour\": \"2021-12-26T05:00:00\", \"num_rides\": 113}, {\"hour\": \"2021-12-26T06:00:00\", \"num_rides\": 247}, {\"hour\": \"2021-12-26T07:00:00\", \"num_rides\": 452}, {\"hour\": \"2021-12-26T08:00:00\", \"num_rides\": 744}, {\"hour\": \"2021-12-26T09:00:00\", \"num_rides\": 1190}, {\"hour\": \"2021-12-26T10:00:00\", \"num_rides\": 1762}, {\"hour\": \"2021-12-26T11:00:00\", \"num_rides\": 2367}, {\"hour\": \"2021-12-26T12:00:00\", \"num_rides\": 2821}, {\"hour\": \"2021-12-26T13:00:00\", \"num_rides\": 3080}, {\"hour\": \"2021-12-26T14:00:00\", \"num_rides\": 3305}, {\"hour\": \"2021-12-26T15:00:00\", \"num_rides\": 3438}, {\"hour\": \"2021-12-26T16:00:00\", \"num_rides\": 2897}, {\"hour\": \"2021-12-26T17:00:00\", \"num_rides\": 2154}, {\"hour\": \"2021-12-26T18:00:00\", \"num_rides\": 1737}, {\"hour\": \"2021-12-26T19:00:00\", \"num_rides\": 1365}, {\"hour\": \"2021-12-26T20:00:00\", \"num_rides\": 1038}, {\"hour\": \"2021-12-26T21:00:00\", \"num_rides\": 783}, {\"hour\": \"2021-12-26T22:00:00\", \"num_rides\": 664}, {\"hour\": \"2021-12-26T23:00:00\", \"num_rides\": 514}, {\"hour\": \"2021-12-27T00:00:00\", \"num_rides\": 307}, {\"hour\": \"2021-12-27T01:00:00\", \"num_rides\": 198}, {\"hour\": \"2021-12-27T02:00:00\", \"num_rides\": 96}, {\"hour\": \"2021-12-27T03:00:00\", \"num_rides\": 71}, {\"hour\": \"2021-12-27T04:00:00\", \"num_rides\": 101}, {\"hour\": \"2021-12-27T05:00:00\", \"num_rides\": 278}, {\"hour\": \"2021-12-27T06:00:00\", \"num_rides\": 653}, {\"hour\": \"2021-12-27T07:00:00\", \"num_rides\": 1088}, {\"hour\": \"2021-12-27T08:00:00\", \"num_rides\": 1518}, {\"hour\": \"2021-12-27T09:00:00\", \"num_rides\": 1513}, {\"hour\": \"2021-12-27T10:00:00\", \"num_rides\": 1632}, {\"hour\": \"2021-12-27T11:00:00\", \"num_rides\": 2029}, {\"hour\": \"2021-12-27T12:00:00\", \"num_rides\": 2243}, {\"hour\": \"2021-12-27T13:00:00\", \"num_rides\": 2567}, {\"hour\": \"2021-12-27T14:00:00\", \"num_rides\": 2722}, {\"hour\": \"2021-12-27T15:00:00\", \"num_rides\": 2914}, {\"hour\": \"2021-12-27T16:00:00\", \"num_rides\": 2793}, {\"hour\": \"2021-12-27T17:00:00\", \"num_rides\": 2676}, {\"hour\": \"2021-12-27T18:00:00\", \"num_rides\": 2343}, {\"hour\": \"2021-12-27T19:00:00\", \"num_rides\": 1543}, {\"hour\": \"2021-12-27T20:00:00\", \"num_rides\": 846}, {\"hour\": \"2021-12-27T21:00:00\", \"num_rides\": 526}, {\"hour\": \"2021-12-27T22:00:00\", \"num_rides\": 515}, {\"hour\": \"2021-12-27T23:00:00\", \"num_rides\": 411}, {\"hour\": \"2021-12-28T00:00:00\", \"num_rides\": 277}, {\"hour\": \"2021-12-28T01:00:00\", \"num_rides\": 168}, {\"hour\": \"2021-12-28T02:00:00\", \"num_rides\": 130}, {\"hour\": \"2021-12-28T03:00:00\", \"num_rides\": 77}, {\"hour\": \"2021-12-28T04:00:00\", \"num_rides\": 98}, {\"hour\": \"2021-12-28T05:00:00\", \"num_rides\": 277}, {\"hour\": \"2021-12-28T06:00:00\", \"num_rides\": 715}, {\"hour\": \"2021-12-28T07:00:00\", \"num_rides\": 1197}, {\"hour\": \"2021-12-28T08:00:00\", \"num_rides\": 1741}, {\"hour\": \"2021-12-28T09:00:00\", \"num_rides\": 1868}, {\"hour\": \"2021-12-28T10:00:00\", \"num_rides\": 2136}, {\"hour\": \"2021-12-28T11:00:00\", \"num_rides\": 2423}, {\"hour\": \"2021-12-28T12:00:00\", \"num_rides\": 2964}, {\"hour\": \"2021-12-28T13:00:00\", \"num_rides\": 3215}, {\"hour\": \"2021-12-28T14:00:00\", \"num_rides\": 3493}, {\"hour\": \"2021-12-28T15:00:00\", \"num_rides\": 3682}, {\"hour\": \"2021-12-28T16:00:00\", \"num_rides\": 3709}, {\"hour\": \"2021-12-28T17:00:00\", \"num_rides\": 3252}, {\"hour\": \"2021-12-28T18:00:00\", \"num_rides\": 2926}, {\"hour\": \"2021-12-28T19:00:00\", \"num_rides\": 2270}, {\"hour\": \"2021-12-28T20:00:00\", \"num_rides\": 1503}, {\"hour\": \"2021-12-28T21:00:00\", \"num_rides\": 1177}, {\"hour\": \"2021-12-28T22:00:00\", \"num_rides\": 1022}, {\"hour\": \"2021-12-28T23:00:00\", \"num_rides\": 408}, {\"hour\": \"2021-12-29T00:00:00\", \"num_rides\": 170}, {\"hour\": \"2021-12-29T01:00:00\", \"num_rides\": 103}, {\"hour\": \"2021-12-29T02:00:00\", \"num_rides\": 73}, {\"hour\": \"2021-12-29T03:00:00\", \"num_rides\": 93}, {\"hour\": \"2021-12-29T04:00:00\", \"num_rides\": 84}, {\"hour\": \"2021-12-29T05:00:00\", \"num_rides\": 177}, {\"hour\": \"2021-12-29T06:00:00\", \"num_rides\": 542}, {\"hour\": \"2021-12-29T07:00:00\", \"num_rides\": 1063}, {\"hour\": \"2021-12-29T08:00:00\", \"num_rides\": 1555}, {\"hour\": \"2021-12-29T09:00:00\", \"num_rides\": 1718}, {\"hour\": \"2021-12-29T10:00:00\", \"num_rides\": 1933}, {\"hour\": \"2021-12-29T11:00:00\", \"num_rides\": 2345}, {\"hour\": \"2021-12-29T12:00:00\", \"num_rides\": 2746}, {\"hour\": \"2021-12-29T13:00:00\", \"num_rides\": 3135}, {\"hour\": \"2021-12-29T14:00:00\", \"num_rides\": 3414}, {\"hour\": \"2021-12-29T15:00:00\", \"num_rides\": 3522}, {\"hour\": \"2021-12-29T16:00:00\", \"num_rides\": 3596}, {\"hour\": \"2021-12-29T17:00:00\", \"num_rides\": 3304}, {\"hour\": \"2021-12-29T18:00:00\", \"num_rides\": 2915}, {\"hour\": \"2021-12-29T19:00:00\", \"num_rides\": 2205}, {\"hour\": \"2021-12-29T20:00:00\", \"num_rides\": 1693}, {\"hour\": \"2021-12-29T21:00:00\", \"num_rides\": 1351}, {\"hour\": \"2021-12-29T22:00:00\", \"num_rides\": 1092}, {\"hour\": \"2021-12-29T23:00:00\", \"num_rides\": 827}, {\"hour\": \"2021-12-30T00:00:00\", \"num_rides\": 612}, {\"hour\": \"2021-12-30T01:00:00\", \"num_rides\": 297}, {\"hour\": \"2021-12-30T02:00:00\", \"num_rides\": 150}, {\"hour\": \"2021-12-30T03:00:00\", \"num_rides\": 80}, {\"hour\": \"2021-12-30T04:00:00\", \"num_rides\": 81}, {\"hour\": \"2021-12-30T05:00:00\", \"num_rides\": 249}, {\"hour\": \"2021-12-30T06:00:00\", \"num_rides\": 649}, {\"hour\": \"2021-12-30T07:00:00\", \"num_rides\": 996}, {\"hour\": \"2021-12-30T08:00:00\", \"num_rides\": 1484}, {\"hour\": \"2021-12-30T09:00:00\", \"num_rides\": 1711}, {\"hour\": \"2021-12-30T10:00:00\", \"num_rides\": 2187}, {\"hour\": \"2021-12-30T11:00:00\", \"num_rides\": 2737}, {\"hour\": \"2021-12-30T12:00:00\", \"num_rides\": 3140}, {\"hour\": \"2021-12-30T13:00:00\", \"num_rides\": 3614}, {\"hour\": \"2021-12-30T14:00:00\", \"num_rides\": 4055}, {\"hour\": \"2021-12-30T15:00:00\", \"num_rides\": 4519}, {\"hour\": \"2021-12-30T16:00:00\", \"num_rides\": 4355}, {\"hour\": \"2021-12-30T17:00:00\", \"num_rides\": 3948}, {\"hour\": \"2021-12-30T18:00:00\", \"num_rides\": 3410}, {\"hour\": \"2021-12-30T19:00:00\", \"num_rides\": 2655}, {\"hour\": \"2021-12-30T20:00:00\", \"num_rides\": 2015}, {\"hour\": \"2021-12-30T21:00:00\", \"num_rides\": 1595}, {\"hour\": \"2021-12-30T22:00:00\", \"num_rides\": 1299}, {\"hour\": \"2021-12-30T23:00:00\", \"num_rides\": 1087}, {\"hour\": \"2021-12-31T00:00:00\", \"num_rides\": 750}, {\"hour\": \"2021-12-31T01:00:00\", \"num_rides\": 424}, {\"hour\": \"2021-12-31T02:00:00\", \"num_rides\": 305}, {\"hour\": \"2021-12-31T03:00:00\", \"num_rides\": 210}, {\"hour\": \"2021-12-31T04:00:00\", \"num_rides\": 156}, {\"hour\": \"2021-12-31T05:00:00\", \"num_rides\": 184}, {\"hour\": \"2021-12-31T06:00:00\", \"num_rides\": 431}, {\"hour\": \"2021-12-31T07:00:00\", \"num_rides\": 739}, {\"hour\": \"2021-12-31T08:00:00\", \"num_rides\": 1196}, {\"hour\": \"2021-12-31T09:00:00\", \"num_rides\": 1834}, {\"hour\": \"2021-12-31T10:00:00\", \"num_rides\": 2742}, {\"hour\": \"2021-12-31T11:00:00\", \"num_rides\": 3688}, {\"hour\": \"2021-12-31T12:00:00\", \"num_rides\": 4263}, {\"hour\": \"2021-12-31T13:00:00\", \"num_rides\": 4666}, {\"hour\": \"2021-12-31T14:00:00\", \"num_rides\": 4744}, {\"hour\": \"2021-12-31T15:00:00\", \"num_rides\": 4635}, {\"hour\": \"2021-12-31T16:00:00\", \"num_rides\": 3913}, {\"hour\": \"2021-12-31T17:00:00\", \"num_rides\": 3109}, {\"hour\": \"2021-12-31T18:00:00\", \"num_rides\": 2688}, {\"hour\": \"2021-12-31T19:00:00\", \"num_rides\": 2156}, {\"hour\": \"2021-12-31T20:00:00\", \"num_rides\": 1784}, {\"hour\": \"2021-12-31T21:00:00\", \"num_rides\": 1477}, {\"hour\": \"2021-12-31T22:00:00\", \"num_rides\": 1330}, {\"hour\": \"2021-12-31T23:00:00\", \"num_rides\": 1272}]}}, {\"mode\": \"vega-lite\"});\n",
              "</script>"
            ],
            "text/plain": [
              "alt.Chart(...)"
            ]
          },
          "execution_count": 8,
          "metadata": {},
          "output_type": "execute_result"
        }
      ],
      "source": [
        "alt.Chart(hourly_counts).mark_line().encode(x = 'hour', y = 'num_rides')"
      ]
    },
    {
      "cell_type": "code",
      "execution_count": null,
      "id": "0413b4ed-dbed-4d3c-a9e5-fc9c094941b2",
      "metadata": {
        "id": "0413b4ed-dbed-4d3c-a9e5-fc9c094941b2",
        "outputId": "85cedff5-b18a-4518-a478-5676a03c8621"
      },
      "outputs": [
        {
          "data": {
            "text/html": [
              "\n",
              "<div id=\"altair-viz-fe342817e58c4845b469ecdbe1f132b1\"></div>\n",
              "<script type=\"text/javascript\">\n",
              "  (function(spec, embedOpt){\n",
              "    let outputDiv = document.currentScript.previousElementSibling;\n",
              "    if (outputDiv.id !== \"altair-viz-fe342817e58c4845b469ecdbe1f132b1\") {\n",
              "      outputDiv = document.getElementById(\"altair-viz-fe342817e58c4845b469ecdbe1f132b1\");\n",
              "    }\n",
              "    const paths = {\n",
              "      \"vega\": \"https://cdn.jsdelivr.net/npm//vega@5?noext\",\n",
              "      \"vega-lib\": \"https://cdn.jsdelivr.net/npm//vega-lib?noext\",\n",
              "      \"vega-lite\": \"https://cdn.jsdelivr.net/npm//vega-lite@4.8.1?noext\",\n",
              "      \"vega-embed\": \"https://cdn.jsdelivr.net/npm//vega-embed@6?noext\",\n",
              "    };\n",
              "\n",
              "    function loadScript(lib) {\n",
              "      return new Promise(function(resolve, reject) {\n",
              "        var s = document.createElement('script');\n",
              "        s.src = paths[lib];\n",
              "        s.async = true;\n",
              "        s.onload = () => resolve(paths[lib]);\n",
              "        s.onerror = () => reject(`Error loading script: ${paths[lib]}`);\n",
              "        document.getElementsByTagName(\"head\")[0].appendChild(s);\n",
              "      });\n",
              "    }\n",
              "\n",
              "    function showError(err) {\n",
              "      outputDiv.innerHTML = `<div class=\"error\" style=\"color:red;\">${err}</div>`;\n",
              "      throw err;\n",
              "    }\n",
              "\n",
              "    function displayChart(vegaEmbed) {\n",
              "      vegaEmbed(outputDiv, spec, embedOpt)\n",
              "        .catch(err => showError(`Javascript Error: ${err.message}<br>This usually means there's a typo in your chart specification. See the javascript console for the full traceback.`));\n",
              "    }\n",
              "\n",
              "    if(typeof define === \"function\" && define.amd) {\n",
              "      requirejs.config({paths});\n",
              "      require([\"vega-embed\"], displayChart, err => showError(`Error loading script: ${err.message}`));\n",
              "    } else if (typeof vegaEmbed === \"function\") {\n",
              "      displayChart(vegaEmbed);\n",
              "    } else {\n",
              "      loadScript(\"vega\")\n",
              "        .then(() => loadScript(\"vega-lite\"))\n",
              "        .then(() => loadScript(\"vega-embed\"))\n",
              "        .catch(showError)\n",
              "        .then(() => displayChart(vegaEmbed));\n",
              "    }\n",
              "  })({\"config\": {\"view\": {\"continuousWidth\": 400, \"continuousHeight\": 300}}, \"data\": {\"name\": \"data-f3419bdd6b14c61efcab9217be24834d\"}, \"mark\": \"line\", \"encoding\": {\"x\": {\"type\": \"temporal\", \"field\": \"hour\"}, \"y\": {\"type\": \"quantitative\", \"field\": \"num_rides\"}}, \"$schema\": \"https://vega.github.io/schema/vega-lite/v4.8.1.json\", \"datasets\": {\"data-f3419bdd6b14c61efcab9217be24834d\": [{\"hour\": \"2021-12-01T00:00:00\", \"num_rides\": 578}, {\"hour\": \"2021-12-01T01:00:00\", \"num_rides\": 264}, {\"hour\": \"2021-12-01T02:00:00\", \"num_rides\": 154}, {\"hour\": \"2021-12-01T03:00:00\", \"num_rides\": 102}, {\"hour\": \"2021-12-01T04:00:00\", \"num_rides\": 136}, {\"hour\": \"2021-12-01T05:00:00\", \"num_rides\": 614}, {\"hour\": \"2021-12-01T06:00:00\", \"num_rides\": 1984}, {\"hour\": \"2021-12-01T07:00:00\", \"num_rides\": 4438}, {\"hour\": \"2021-12-01T08:00:00\", \"num_rides\": 6266}, {\"hour\": \"2021-12-01T09:00:00\", \"num_rides\": 4393}, {\"hour\": \"2021-12-01T10:00:00\", \"num_rides\": 3155}, {\"hour\": \"2021-12-01T11:00:00\", \"num_rides\": 3077}, {\"hour\": \"2021-12-01T12:00:00\", \"num_rides\": 3600}, {\"hour\": \"2021-12-01T13:00:00\", \"num_rides\": 3897}, {\"hour\": \"2021-12-01T14:00:00\", \"num_rides\": 4403}, {\"hour\": \"2021-12-01T15:00:00\", \"num_rides\": 4779}, {\"hour\": \"2021-12-01T16:00:00\", \"num_rides\": 5397}, {\"hour\": \"2021-12-01T17:00:00\", \"num_rides\": 6639}, {\"hour\": \"2021-12-01T18:00:00\", \"num_rides\": 6493}, {\"hour\": \"2021-12-01T19:00:00\", \"num_rides\": 4651}, {\"hour\": \"2021-12-01T20:00:00\", \"num_rides\": 3134}, {\"hour\": \"2021-12-01T21:00:00\", \"num_rides\": 2469}, {\"hour\": \"2021-12-01T22:00:00\", \"num_rides\": 2038}, {\"hour\": \"2021-12-01T23:00:00\", \"num_rides\": 1372}, {\"hour\": \"2021-12-02T00:00:00\", \"num_rides\": 509}, {\"hour\": \"2021-12-02T01:00:00\", \"num_rides\": 254}, {\"hour\": \"2021-12-02T02:00:00\", \"num_rides\": 201}, {\"hour\": \"2021-12-02T03:00:00\", \"num_rides\": 121}, {\"hour\": \"2021-12-02T04:00:00\", \"num_rides\": 147}, {\"hour\": \"2021-12-02T05:00:00\", \"num_rides\": 549}, {\"hour\": \"2021-12-02T06:00:00\", \"num_rides\": 1572}, {\"hour\": \"2021-12-02T07:00:00\", \"num_rides\": 4219}, {\"hour\": \"2021-12-02T08:00:00\", \"num_rides\": 6514}, {\"hour\": \"2021-12-02T09:00:00\", \"num_rides\": 4501}, {\"hour\": \"2021-12-02T10:00:00\", \"num_rides\": 3332}, {\"hour\": \"2021-12-02T11:00:00\", \"num_rides\": 3381}, {\"hour\": \"2021-12-02T12:00:00\", \"num_rides\": 3808}, {\"hour\": \"2021-12-02T13:00:00\", \"num_rides\": 4041}, {\"hour\": \"2021-12-02T14:00:00\", \"num_rides\": 4845}, {\"hour\": \"2021-12-02T15:00:00\", \"num_rides\": 5267}, {\"hour\": \"2021-12-02T16:00:00\", \"num_rides\": 5851}, {\"hour\": \"2021-12-02T17:00:00\", \"num_rides\": 7260}, {\"hour\": \"2021-12-02T18:00:00\", \"num_rides\": 7283}, {\"hour\": \"2021-12-02T19:00:00\", \"num_rides\": 5348}, {\"hour\": \"2021-12-02T20:00:00\", \"num_rides\": 3712}, {\"hour\": \"2021-12-02T21:00:00\", \"num_rides\": 2778}, {\"hour\": \"2021-12-02T22:00:00\", \"num_rides\": 2269}, {\"hour\": \"2021-12-02T23:00:00\", \"num_rides\": 1600}, {\"hour\": \"2021-12-03T00:00:00\", \"num_rides\": 977}, {\"hour\": \"2021-12-03T01:00:00\", \"num_rides\": 532}, {\"hour\": \"2021-12-03T02:00:00\", \"num_rides\": 291}, {\"hour\": \"2021-12-03T03:00:00\", \"num_rides\": 180}, {\"hour\": \"2021-12-03T04:00:00\", \"num_rides\": 207}, {\"hour\": \"2021-12-03T05:00:00\", \"num_rides\": 563}, {\"hour\": \"2021-12-03T06:00:00\", \"num_rides\": 1668}, {\"hour\": \"2021-12-03T07:00:00\", \"num_rides\": 3776}, {\"hour\": \"2021-12-03T08:00:00\", \"num_rides\": 5498}, {\"hour\": \"2021-12-03T09:00:00\", \"num_rides\": 4038}, {\"hour\": \"2021-12-03T10:00:00\", \"num_rides\": 3326}, {\"hour\": \"2021-12-03T11:00:00\", \"num_rides\": 3577}, {\"hour\": \"2021-12-03T12:00:00\", \"num_rides\": 4001}, {\"hour\": \"2021-12-03T13:00:00\", \"num_rides\": 4275}, {\"hour\": \"2021-12-03T14:00:00\", \"num_rides\": 4785}, {\"hour\": \"2021-12-03T15:00:00\", \"num_rides\": 5355}, {\"hour\": \"2021-12-03T16:00:00\", \"num_rides\": 5785}, {\"hour\": \"2021-12-03T17:00:00\", \"num_rides\": 5973}, {\"hour\": \"2021-12-03T18:00:00\", \"num_rides\": 5433}, {\"hour\": \"2021-12-03T19:00:00\", \"num_rides\": 4056}, {\"hour\": \"2021-12-03T20:00:00\", \"num_rides\": 2778}, {\"hour\": \"2021-12-03T21:00:00\", \"num_rides\": 2034}, {\"hour\": \"2021-12-03T22:00:00\", \"num_rides\": 1833}, {\"hour\": \"2021-12-03T23:00:00\", \"num_rides\": 1644}, {\"hour\": \"2021-12-04T00:00:00\", \"num_rides\": 1396}, {\"hour\": \"2021-12-04T01:00:00\", \"num_rides\": 1027}, {\"hour\": \"2021-12-04T02:00:00\", \"num_rides\": 761}, {\"hour\": \"2021-12-04T03:00:00\", \"num_rides\": 435}, {\"hour\": \"2021-12-04T04:00:00\", \"num_rides\": 334}, {\"hour\": \"2021-12-04T05:00:00\", \"num_rides\": 243}, {\"hour\": \"2021-12-04T06:00:00\", \"num_rides\": 499}, {\"hour\": \"2021-12-04T07:00:00\", \"num_rides\": 1195}, {\"hour\": \"2021-12-04T08:00:00\", \"num_rides\": 1967}, {\"hour\": \"2021-12-04T09:00:00\", \"num_rides\": 3038}, {\"hour\": \"2021-12-04T10:00:00\", \"num_rides\": 4172}, {\"hour\": \"2021-12-04T11:00:00\", \"num_rides\": 5117}, {\"hour\": \"2021-12-04T12:00:00\", \"num_rides\": 5833}, {\"hour\": \"2021-12-04T13:00:00\", \"num_rides\": 5864}, {\"hour\": \"2021-12-04T14:00:00\", \"num_rides\": 5792}, {\"hour\": \"2021-12-04T15:00:00\", \"num_rides\": 5880}, {\"hour\": \"2021-12-04T16:00:00\", \"num_rides\": 5144}, {\"hour\": \"2021-12-04T17:00:00\", \"num_rides\": 4117}, {\"hour\": \"2021-12-04T18:00:00\", \"num_rides\": 3882}, {\"hour\": \"2021-12-04T19:00:00\", \"num_rides\": 3457}, {\"hour\": \"2021-12-04T20:00:00\", \"num_rides\": 2467}, {\"hour\": \"2021-12-04T21:00:00\", \"num_rides\": 1850}, {\"hour\": \"2021-12-04T22:00:00\", \"num_rides\": 1913}, {\"hour\": \"2021-12-04T23:00:00\", \"num_rides\": 1778}, {\"hour\": \"2021-12-05T00:00:00\", \"num_rides\": 1615}, {\"hour\": \"2021-12-05T01:00:00\", \"num_rides\": 1151}, {\"hour\": \"2021-12-05T02:00:00\", \"num_rides\": 760}, {\"hour\": \"2021-12-05T03:00:00\", \"num_rides\": 516}, {\"hour\": \"2021-12-05T04:00:00\", \"num_rides\": 323}, {\"hour\": \"2021-12-05T05:00:00\", \"num_rides\": 227}, {\"hour\": \"2021-12-05T06:00:00\", \"num_rides\": 425}, {\"hour\": \"2021-12-05T07:00:00\", \"num_rides\": 853}, {\"hour\": \"2021-12-05T08:00:00\", \"num_rides\": 1518}, {\"hour\": \"2021-12-05T09:00:00\", \"num_rides\": 2523}, {\"hour\": \"2021-12-05T10:00:00\", \"num_rides\": 3883}, {\"hour\": \"2021-12-05T11:00:00\", \"num_rides\": 4872}, {\"hour\": \"2021-12-05T12:00:00\", \"num_rides\": 5579}, {\"hour\": \"2021-12-05T13:00:00\", \"num_rides\": 5482}, {\"hour\": \"2021-12-05T14:00:00\", \"num_rides\": 5650}, {\"hour\": \"2021-12-05T15:00:00\", \"num_rides\": 5666}, {\"hour\": \"2021-12-05T16:00:00\", \"num_rides\": 5269}, {\"hour\": \"2021-12-05T17:00:00\", \"num_rides\": 4126}, {\"hour\": \"2021-12-05T18:00:00\", \"num_rides\": 3403}, {\"hour\": \"2021-12-05T19:00:00\", \"num_rides\": 2711}, {\"hour\": \"2021-12-05T20:00:00\", \"num_rides\": 2016}, {\"hour\": \"2021-12-05T21:00:00\", \"num_rides\": 1674}, {\"hour\": \"2021-12-05T22:00:00\", \"num_rides\": 1279}, {\"hour\": \"2021-12-05T23:00:00\", \"num_rides\": 988}, {\"hour\": \"2021-12-06T00:00:00\", \"num_rides\": 549}, {\"hour\": \"2021-12-06T01:00:00\", \"num_rides\": 216}, {\"hour\": \"2021-12-06T02:00:00\", \"num_rides\": 106}, {\"hour\": \"2021-12-06T03:00:00\", \"num_rides\": 54}, {\"hour\": \"2021-12-06T04:00:00\", \"num_rides\": 105}, {\"hour\": \"2021-12-06T05:00:00\", \"num_rides\": 527}, {\"hour\": \"2021-12-06T06:00:00\", \"num_rides\": 1677}, {\"hour\": \"2021-12-06T07:00:00\", \"num_rides\": 3661}, {\"hour\": \"2021-12-06T08:00:00\", \"num_rides\": 5460}, {\"hour\": \"2021-12-06T09:00:00\", \"num_rides\": 3680}, {\"hour\": \"2021-12-06T10:00:00\", \"num_rides\": 2757}, {\"hour\": \"2021-12-06T11:00:00\", \"num_rides\": 2921}, {\"hour\": \"2021-12-06T12:00:00\", \"num_rides\": 3422}, {\"hour\": \"2021-12-06T13:00:00\", \"num_rides\": 3938}, {\"hour\": \"2021-12-06T14:00:00\", \"num_rides\": 4510}, {\"hour\": \"2021-12-06T15:00:00\", \"num_rides\": 5214}, {\"hour\": \"2021-12-06T16:00:00\", \"num_rides\": 5719}, {\"hour\": \"2021-12-06T17:00:00\", \"num_rides\": 6967}, {\"hour\": \"2021-12-06T18:00:00\", \"num_rides\": 6688}, {\"hour\": \"2021-12-06T19:00:00\", \"num_rides\": 4060}, {\"hour\": \"2021-12-06T20:00:00\", \"num_rides\": 1527}, {\"hour\": \"2021-12-06T21:00:00\", \"num_rides\": 1595}, {\"hour\": \"2021-12-06T22:00:00\", \"num_rides\": 1384}, {\"hour\": \"2021-12-06T23:00:00\", \"num_rides\": 998}, {\"hour\": \"2021-12-07T00:00:00\", \"num_rides\": 465}, {\"hour\": \"2021-12-07T01:00:00\", \"num_rides\": 237}, {\"hour\": \"2021-12-07T02:00:00\", \"num_rides\": 147}, {\"hour\": \"2021-12-07T03:00:00\", \"num_rides\": 111}, {\"hour\": \"2021-12-07T04:00:00\", \"num_rides\": 160}, {\"hour\": \"2021-12-07T05:00:00\", \"num_rides\": 594}, {\"hour\": \"2021-12-07T06:00:00\", \"num_rides\": 2014}, {\"hour\": \"2021-12-07T07:00:00\", \"num_rides\": 4388}, {\"hour\": \"2021-12-07T08:00:00\", \"num_rides\": 6257}, {\"hour\": \"2021-12-07T09:00:00\", \"num_rides\": 4227}, {\"hour\": \"2021-12-07T10:00:00\", \"num_rides\": 2916}, {\"hour\": \"2021-12-07T11:00:00\", \"num_rides\": 2891}, {\"hour\": \"2021-12-07T12:00:00\", \"num_rides\": 3304}, {\"hour\": \"2021-12-07T13:00:00\", \"num_rides\": 3572}, {\"hour\": \"2021-12-07T14:00:00\", \"num_rides\": 3839}, {\"hour\": \"2021-12-07T15:00:00\", \"num_rides\": 4495}, {\"hour\": \"2021-12-07T16:00:00\", \"num_rides\": 5159}, {\"hour\": \"2021-12-07T17:00:00\", \"num_rides\": 6146}, {\"hour\": \"2021-12-07T18:00:00\", \"num_rides\": 4463}, {\"hour\": \"2021-12-07T19:00:00\", \"num_rides\": 4228}, {\"hour\": \"2021-12-07T20:00:00\", \"num_rides\": 2805}, {\"hour\": \"2021-12-07T21:00:00\", \"num_rides\": 2109}, {\"hour\": \"2021-12-07T22:00:00\", \"num_rides\": 1610}, {\"hour\": \"2021-12-07T23:00:00\", \"num_rides\": 1052}]}}, {\"mode\": \"vega-lite\"});\n",
              "</script>"
            ],
            "text/plain": [
              "alt.Chart(...)"
            ]
          },
          "execution_count": 9,
          "metadata": {},
          "output_type": "execute_result"
        }
      ],
      "source": [
        "alt.Chart(hourly_counts[:168]).mark_line().encode(x = 'hour', y = 'num_rides')"
      ]
    },
    {
      "cell_type": "markdown",
      "id": "7063584f-bb33-4a85-8009-8305d9d0722e",
      "metadata": {
        "id": "7063584f-bb33-4a85-8009-8305d9d0722e"
      },
      "source": [
        "These two plots show a few things. First, we see the volume in the last week of December is less than the volume during the rest of the month, likely due to Christmas vacation. To gather more data about that hypothesis, we would need to look at other holiday periods and see if there is a similar decline.\n",
        "\n",
        "The second plot shows the trend for the first week of December. On most days, there are two peaks. The days with only one peak are December 4, and December 5 which are Saturday and Sunday. Therefore, a plausible explanation for this data is that during weekdays, we see two peaks before and after the workdays. \n",
        "\n",
        "Unsurprisingly, there is a daily cycle where people ride the bikes during the day and use them much less frequently during the night"
      ]
    },
    {
      "cell_type": "markdown",
      "id": "a5fc7ff3-456f-433f-81d3-b7b4df48055f",
      "metadata": {
        "id": "a5fc7ff3-456f-433f-81d3-b7b4df48055f"
      },
      "source": [
        "# Exploration of Data"
      ]
    },
    {
      "cell_type": "markdown",
      "id": "1a75c41b-4359-46a7-bcbe-29dfb3b20ddd",
      "metadata": {
        "id": "1a75c41b-4359-46a7-bcbe-29dfb3b20ddd"
      },
      "source": [
        "A great way to start exploring time series data is to look at autocorrelation. Doing machine learning with time series data is very similar to machine learning in other contexts. One of the features you can use are lagged variables or autoregressive features. In our example, lagged variables would be the hourly counts from previous hours. Autocorrelation measures the correlation coefficient (between -1 and 1) between different lags"
      ]
    },
    {
      "cell_type": "code",
      "execution_count": null,
      "id": "e6d3c491-3720-4685-9c98-96a10ae7264a",
      "metadata": {
        "id": "e6d3c491-3720-4685-9c98-96a10ae7264a",
        "outputId": "082c2d5a-65e5-493d-f83f-89b95731d523"
      },
      "outputs": [
        {
          "data": {
            "image/png": "[encoded data removed]",
            "text/plain": [
              "<Figure size 432x288 with 1 Axes>"
            ]
          },
          "execution_count": 13,
          "metadata": {},
          "output_type": "execute_result"
        },
        {
          "data": {
            "image/png": "[encoded data removed]",
            "text/plain": [
              "<Figure size 432x288 with 1 Axes>"
            ]
          },
          "metadata": {
            "needs_background": "light"
          },
          "output_type": "display_data"
        }
      ],
      "source": [
        "from statsmodels.graphics.tsaplots import plot_acf\n",
        "plot_acf(hourly_counts['num_rides'])"
      ]
    },
    {
      "cell_type": "markdown",
      "id": "bce237b1-1e19-4124-b29f-69a4df526949",
      "metadata": {
        "id": "bce237b1-1e19-4124-b29f-69a4df526949"
      },
      "source": [
        "In the plot above, the x-axis refers to the amount of lag, and the y axis is the correlation coefficient. The point at 0 has a correlation of 1 because the two series being compared are the same. There is a negative autocorrelation on cycles of 12 hours because a 12 hour shift corresponds to a day-night difference. We also see the lags with the highest correlation are around 1 and 24, meaning the most recent hourly counts and the hourly counts for the same hour from 1 day ago provide the most predictive value. \n",
        "\n",
        "A related plot to the autocorrelation plot is the partial autocorrelation plot. The idea is the same, but now instead of just the correlation, the y-axis shows the marginal correlation added when including a lagged variable that is not already captured by the lower lag variables."
      ]
    },
    {
      "cell_type": "code",
      "execution_count": null,
      "id": "18d1216e-950f-48f2-88d1-bc36ee1ed3fd",
      "metadata": {
        "id": "18d1216e-950f-48f2-88d1-bc36ee1ed3fd",
        "outputId": "53ffea9f-509e-4cfe-801c-39c91c9982dd"
      },
      "outputs": [
        {
          "name": "stderr",
          "output_type": "stream",
          "text": [
            "/Users/rohpitre/projects/venv/lib/python3.8/site-packages/statsmodels/graphics/tsaplots.py:348: FutureWarning: The default method 'yw' can produce PACF values outside of the [-1,1] interval. After 0.13, the default will change tounadjusted Yule-Walker ('ywm'). You can use this method now by setting method='ywm'.\n",
            "  warnings.warn(\n"
          ]
        },
        {
          "data": {
            "image/png": "[encoded data removed]",
            "text/plain": [
              "<Figure size 432x288 with 1 Axes>"
            ]
          },
          "execution_count": 15,
          "metadata": {},
          "output_type": "execute_result"
        },
        {
          "data": {
            "image/png": "[encoded data removed]",
            "text/plain": [
              "<Figure size 432x288 with 1 Axes>"
            ]
          },
          "metadata": {
            "needs_background": "light"
          },
          "output_type": "display_data"
        }
      ],
      "source": [
        "from statsmodels.graphics.tsaplots import plot_pacf\n",
        "plot_pacf(hourly_counts['num_rides'])"
      ]
    },
    {
      "cell_type": "markdown",
      "id": "4917a91f-1ba4-4a7d-ae2c-ea92ad8f9d2e",
      "metadata": {
        "id": "4917a91f-1ba4-4a7d-ae2c-ea92ad8f9d2e"
      },
      "source": [
        "These plots should give visual intuition in how many lagged features to use"
      ]
    },
    {
      "cell_type": "markdown",
      "id": "30142d95-7f61-4569-84e9-6a0e60870696",
      "metadata": {
        "id": "30142d95-7f61-4569-84e9-6a0e60870696"
      },
      "source": [
        "# Validation of Models"
      ]
    },
    {
      "cell_type": "markdown",
      "id": "52f2d8bd",
      "metadata": {
        "id": "52f2d8bd"
      },
      "source": [
        "![Screen%20Shot%202022-01-31%20at%2010.15.50%20PM.png](attachment:Screen%20Shot%202022-01-31%20at%2010.15.50%20PM.png)"
      ]
    },
    {
      "cell_type": "markdown",
      "id": "67c46f30",
      "metadata": {
        "id": "67c46f30"
      },
      "source": [
        "In the figure above, we see how using 3-fold validation on a simplified dataset of 6 time series points. Consider the leftmost fold. In that case we are using data from time t = 6 in our training and trying to predict what happends in t = 5. This is not indicative of what happens in reality. You will never have future information. Thus, we cannot randomly split our data. Rather we must do validation like in the following diagram. Here the, cells in white are ignored in their corresponding fold."
      ]
    },
    {
      "cell_type": "markdown",
      "id": "18614523",
      "metadata": {
        "id": "18614523"
      },
      "source": [
        "![Screen%20Shot%202022-01-31%20at%2010.28.35%20PM.png](attachment:Screen%20Shot%202022-01-31%20at%2010.28.35%20PM.png)"
      ]
    },
    {
      "cell_type": "markdown",
      "id": "10d524c2",
      "metadata": {
        "id": "10d524c2"
      },
      "source": [
        "The assumption we are making here is that we are retraining the model at every time step. In some situations, we might only be able to retrain every 2 timesteps. In that case, it would make sense to include two timesteps in every fold.\n",
        "\n",
        "Explaining validation methods for time series is a very important interview question"
      ]
    },
    {
      "cell_type": "markdown",
      "id": "48afa1e6",
      "metadata": {
        "id": "48afa1e6"
      },
      "source": [
        "# Downfall of Using Tree Based Methods"
      ]
    },
    {
      "cell_type": "markdown",
      "id": "0abb463d-e997-452a-b182-9eb653829cd9",
      "metadata": {
        "id": "0abb463d-e997-452a-b182-9eb653829cd9"
      },
      "source": [
        "Tree based methods are a popular class of machine learning algorithms. However, they have a very important property to keep in mind in a time series context. Essentially, tree based algorithms are not capable of extrapolating multiple time periods in the future. To illustrate this consider the following example. This is an example of a linearly increasing time series. \n",
        "\n",
        "In order for this example to work properly please restart at the top of this section if you decide to make modifications to the code cells"
      ]
    },
    {
      "cell_type": "code",
      "execution_count": null,
      "id": "0bfd8a9d-9a26-48ae-ad04-e0eee1fa140e",
      "metadata": {
        "id": "0bfd8a9d-9a26-48ae-ad04-e0eee1fa140e",
        "outputId": "fcaab5c9-aa22-45be-9fd9-a78c9e3ef747"
      },
      "outputs": [
        {
          "data": {
            "text/html": [
              "\n",
              "<div id=\"altair-viz-d17f618fa30d4f8989b525a0815cf28a\"></div>\n",
              "<script type=\"text/javascript\">\n",
              "  (function(spec, embedOpt){\n",
              "    let outputDiv = document.currentScript.previousElementSibling;\n",
              "    if (outputDiv.id !== \"altair-viz-d17f618fa30d4f8989b525a0815cf28a\") {\n",
              "      outputDiv = document.getElementById(\"altair-viz-d17f618fa30d4f8989b525a0815cf28a\");\n",
              "    }\n",
              "    const paths = {\n",
              "      \"vega\": \"https://cdn.jsdelivr.net/npm//vega@5?noext\",\n",
              "      \"vega-lib\": \"https://cdn.jsdelivr.net/npm//vega-lib?noext\",\n",
              "      \"vega-lite\": \"https://cdn.jsdelivr.net/npm//vega-lite@4.8.1?noext\",\n",
              "      \"vega-embed\": \"https://cdn.jsdelivr.net/npm//vega-embed@6?noext\",\n",
              "    };\n",
              "\n",
              "    function loadScript(lib) {\n",
              "      return new Promise(function(resolve, reject) {\n",
              "        var s = document.createElement('script');\n",
              "        s.src = paths[lib];\n",
              "        s.async = true;\n",
              "        s.onload = () => resolve(paths[lib]);\n",
              "        s.onerror = () => reject(`Error loading script: ${paths[lib]}`);\n",
              "        document.getElementsByTagName(\"head\")[0].appendChild(s);\n",
              "      });\n",
              "    }\n",
              "\n",
              "    function showError(err) {\n",
              "      outputDiv.innerHTML = `<div class=\"error\" style=\"color:red;\">${err}</div>`;\n",
              "      throw err;\n",
              "    }\n",
              "\n",
              "    function displayChart(vegaEmbed) {\n",
              "      vegaEmbed(outputDiv, spec, embedOpt)\n",
              "        .catch(err => showError(`Javascript Error: ${err.message}<br>This usually means there's a typo in your chart specification. See the javascript console for the full traceback.`));\n",
              "    }\n",
              "\n",
              "    if(typeof define === \"function\" && define.amd) {\n",
              "      requirejs.config({paths});\n",
              "      require([\"vega-embed\"], displayChart, err => showError(`Error loading script: ${err.message}`));\n",
              "    } else if (typeof vegaEmbed === \"function\") {\n",
              "      displayChart(vegaEmbed);\n",
              "    } else {\n",
              "      loadScript(\"vega\")\n",
              "        .then(() => loadScript(\"vega-lite\"))\n",
              "        .then(() => loadScript(\"vega-embed\"))\n",
              "        .catch(showError)\n",
              "        .then(() => displayChart(vegaEmbed));\n",
              "    }\n",
              "  })({\"config\": {\"view\": {\"continuousWidth\": 400, \"continuousHeight\": 300}}, \"data\": {\"name\": \"data-46a92fb53f74bef0b5ac49d83af58541\"}, \"mark\": \"line\", \"encoding\": {\"x\": {\"type\": \"quantitative\", \"field\": \"x\"}, \"y\": {\"type\": \"quantitative\", \"field\": \"y\"}}, \"$schema\": \"https://vega.github.io/schema/vega-lite/v4.8.1.json\", \"datasets\": {\"data-46a92fb53f74bef0b5ac49d83af58541\": [{\"index\": 0, \"x\": 0.0, \"y\": 0.0}, {\"index\": 1, \"x\": 1.0, \"y\": 10.0}, {\"index\": 2, \"x\": 2.0, \"y\": 20.0}, {\"index\": 3, \"x\": 3.0, \"y\": 30.0}, {\"index\": 4, \"x\": 4.0, \"y\": 40.0}, {\"index\": 5, \"x\": 5.0, \"y\": 50.0}, {\"index\": 6, \"x\": 6.0, \"y\": 60.0}, {\"index\": 7, \"x\": 7.0, \"y\": 70.0}, {\"index\": 8, \"x\": 8.0, \"y\": 80.0}, {\"index\": 9, \"x\": 9.0, \"y\": 90.0}, {\"index\": 10, \"x\": 10.0, \"y\": 100.0}, {\"index\": 11, \"x\": 11.0, \"y\": 110.0}, {\"index\": 12, \"x\": 12.0, \"y\": 120.0}, {\"index\": 13, \"x\": 13.0, \"y\": 130.0}, {\"index\": 14, \"x\": 14.0, \"y\": 140.0}, {\"index\": 15, \"x\": 15.0, \"y\": 150.0}, {\"index\": 16, \"x\": 16.0, \"y\": 160.0}, {\"index\": 17, \"x\": 17.0, \"y\": 170.0}, {\"index\": 18, \"x\": 18.0, \"y\": 180.0}, {\"index\": 19, \"x\": 19.0, \"y\": 190.0}, {\"index\": 20, \"x\": 20.0, \"y\": 200.0}, {\"index\": 21, \"x\": 21.0, \"y\": 210.0}, {\"index\": 22, \"x\": 22.0, \"y\": 220.0}, {\"index\": 23, \"x\": 23.0, \"y\": 230.0}, {\"index\": 24, \"x\": 24.0, \"y\": 240.0}, {\"index\": 25, \"x\": 25.0, \"y\": 250.0}, {\"index\": 26, \"x\": 26.0, \"y\": 260.0}, {\"index\": 27, \"x\": 27.0, \"y\": 270.0}, {\"index\": 28, \"x\": 28.0, \"y\": 280.0}, {\"index\": 29, \"x\": 29.0, \"y\": 290.0}, {\"index\": 30, \"x\": 30.0, \"y\": 300.0}, {\"index\": 31, \"x\": 31.0, \"y\": 310.0}, {\"index\": 32, \"x\": 32.0, \"y\": 320.0}, {\"index\": 33, \"x\": 33.0, \"y\": 330.0}, {\"index\": 34, \"x\": 34.0, \"y\": 340.0}, {\"index\": 35, \"x\": 35.0, \"y\": 350.0}, {\"index\": 36, \"x\": 36.0, \"y\": 360.0}, {\"index\": 37, \"x\": 37.0, \"y\": 370.0}, {\"index\": 38, \"x\": 38.0, \"y\": 380.0}, {\"index\": 39, \"x\": 39.0, \"y\": 390.0}, {\"index\": 40, \"x\": 40.0, \"y\": 400.0}, {\"index\": 41, \"x\": 41.0, \"y\": 410.0}, {\"index\": 42, \"x\": 42.0, \"y\": 420.0}, {\"index\": 43, \"x\": 43.0, \"y\": 430.0}, {\"index\": 44, \"x\": 44.0, \"y\": 440.0}, {\"index\": 45, \"x\": 45.0, \"y\": 450.0}, {\"index\": 46, \"x\": 46.0, \"y\": 460.0}, {\"index\": 47, \"x\": 47.0, \"y\": 470.0}, {\"index\": 48, \"x\": 48.0, \"y\": 480.0}, {\"index\": 49, \"x\": 49.0, \"y\": 490.0}, {\"index\": 50, \"x\": 50.0, \"y\": 500.0}, {\"index\": 51, \"x\": 51.0, \"y\": 510.0}, {\"index\": 52, \"x\": 52.0, \"y\": 520.0}, {\"index\": 53, \"x\": 53.0, \"y\": 530.0}, {\"index\": 54, \"x\": 54.0, \"y\": 540.0}, {\"index\": 55, \"x\": 55.0, \"y\": 550.0}, {\"index\": 56, \"x\": 56.0, \"y\": 560.0}, {\"index\": 57, \"x\": 57.0, \"y\": 570.0}, {\"index\": 58, \"x\": 58.0, \"y\": 580.0}, {\"index\": 59, \"x\": 59.0, \"y\": 590.0}, {\"index\": 60, \"x\": 60.0, \"y\": 600.0}, {\"index\": 61, \"x\": 61.0, \"y\": 610.0}, {\"index\": 62, \"x\": 62.0, \"y\": 620.0}, {\"index\": 63, \"x\": 63.0, \"y\": 630.0}, {\"index\": 64, \"x\": 64.0, \"y\": 640.0}, {\"index\": 65, \"x\": 65.0, \"y\": 650.0}, {\"index\": 66, \"x\": 66.0, \"y\": 660.0}, {\"index\": 67, \"x\": 67.0, \"y\": 670.0}, {\"index\": 68, \"x\": 68.0, \"y\": 680.0}, {\"index\": 69, \"x\": 69.0, \"y\": 690.0}, {\"index\": 70, \"x\": 70.0, \"y\": 700.0}]}}, {\"mode\": \"vega-lite\"});\n",
              "</script>"
            ],
            "text/plain": [
              "alt.Chart(...)"
            ]
          },
          "execution_count": 89,
          "metadata": {},
          "output_type": "execute_result"
        }
      ],
      "source": [
        "df = pd.DataFrame({'x': np.linspace(0, 70, 71)}).reset_index()\n",
        "df['y'] = df['x'] * 10\n",
        "\n",
        "alt.Chart(df).mark_line().encode(x = 'x', y = 'y')"
      ]
    },
    {
      "cell_type": "markdown",
      "id": "4d6e4c9e-3c50-42b6-8800-242061716081",
      "metadata": {
        "id": "4d6e4c9e-3c50-42b6-8800-242061716081"
      },
      "source": [
        "This requires us to drop the first record because it has no feature values. If you decide to use more lagged variables, you will have to omit the first N observations. \n",
        "\n",
        "In the end of the training dataset we have a value of 49 which if we were forecasting multiple time periods in the future would be the latest estimate for the value. Therefore the x value in the testing set would be 49"
      ]
    },
    {
      "cell_type": "code",
      "execution_count": null,
      "id": "0b672f98-70c8-48b4-b630-fba5c63409f8",
      "metadata": {
        "id": "0b672f98-70c8-48b4-b630-fba5c63409f8",
        "outputId": "cdeec0fe-7027-4469-c1d1-db838824fe63"
      },
      "outputs": [
        {
          "data": {
            "text/html": [
              "<div>\n",
              "<style scoped>\n",
              "    .dataframe tbody tr th:only-of-type {\n",
              "        vertical-align: middle;\n",
              "    }\n",
              "\n",
              "    .dataframe tbody tr th {\n",
              "        vertical-align: top;\n",
              "    }\n",
              "\n",
              "    .dataframe thead th {\n",
              "        text-align: right;\n",
              "    }\n",
              "</style>\n",
              "<table border=\"1\" class=\"dataframe\">\n",
              "  <thead>\n",
              "    <tr style=\"text-align: right;\">\n",
              "      <th></th>\n",
              "      <th>index</th>\n",
              "      <th>x</th>\n",
              "      <th>y</th>\n",
              "    </tr>\n",
              "  </thead>\n",
              "  <tbody>\n",
              "    <tr>\n",
              "      <th>45</th>\n",
              "      <td>45</td>\n",
              "      <td>45.0</td>\n",
              "      <td>450.0</td>\n",
              "    </tr>\n",
              "    <tr>\n",
              "      <th>46</th>\n",
              "      <td>46</td>\n",
              "      <td>46.0</td>\n",
              "      <td>460.0</td>\n",
              "    </tr>\n",
              "    <tr>\n",
              "      <th>47</th>\n",
              "      <td>47</td>\n",
              "      <td>47.0</td>\n",
              "      <td>470.0</td>\n",
              "    </tr>\n",
              "    <tr>\n",
              "      <th>48</th>\n",
              "      <td>48</td>\n",
              "      <td>48.0</td>\n",
              "      <td>480.0</td>\n",
              "    </tr>\n",
              "    <tr>\n",
              "      <th>49</th>\n",
              "      <td>49</td>\n",
              "      <td>49.0</td>\n",
              "      <td>490.0</td>\n",
              "    </tr>\n",
              "  </tbody>\n",
              "</table>\n",
              "</div>"
            ],
            "text/plain": [
              "    index     x      y\n",
              "45     45  45.0  450.0\n",
              "46     46  46.0  460.0\n",
              "47     47  47.0  470.0\n",
              "48     48  48.0  480.0\n",
              "49     49  49.0  490.0"
            ]
          },
          "execution_count": 113,
          "metadata": {},
          "output_type": "execute_result"
        }
      ],
      "source": [
        "train = df[df.index<50].copy()\n",
        "test = df[df.index>=50].copy()\n",
        "train.tail()"
      ]
    },
    {
      "cell_type": "code",
      "execution_count": null,
      "id": "36c70544-2117-4ce6-92a2-61c65d5b9858",
      "metadata": {
        "id": "36c70544-2117-4ce6-92a2-61c65d5b9858"
      },
      "outputs": [],
      "source": [
        "test['x_'] = 49"
      ]
    },
    {
      "cell_type": "markdown",
      "id": "b2eb98bd-66f5-44de-a2c7-f7dc9be27820",
      "metadata": {
        "id": "b2eb98bd-66f5-44de-a2c7-f7dc9be27820"
      },
      "source": [
        "We now fit a random forest model. The logic here extends to all tree based methods regardless of parameter tuning"
      ]
    },
    {
      "cell_type": "code",
      "execution_count": null,
      "id": "47dfae81-a33a-4192-8dbd-2818de696cc8",
      "metadata": {
        "id": "47dfae81-a33a-4192-8dbd-2818de696cc8"
      },
      "outputs": [],
      "source": [
        "rf = RandomForestRegressor()\n",
        "rf = rf.fit(X = df[['x']], y = df['y'])"
      ]
    },
    {
      "cell_type": "code",
      "execution_count": null,
      "id": "8205db98-0478-4879-838b-14d2ea664524",
      "metadata": {
        "id": "8205db98-0478-4879-838b-14d2ea664524"
      },
      "outputs": [],
      "source": [
        "train['pred'] = rf.predict(train[['x']])\n",
        "test['pred'] = rf.predict(test[['x_']])"
      ]
    },
    {
      "cell_type": "code",
      "execution_count": null,
      "id": "2d77091d-c7f5-4a39-8d65-292fdeb3fe23",
      "metadata": {
        "id": "2d77091d-c7f5-4a39-8d65-292fdeb3fe23",
        "outputId": "6a6738cb-d9f3-47aa-b1df-1e7e073c075a"
      },
      "outputs": [
        {
          "data": {
            "text/html": [
              "\n",
              "<div id=\"altair-viz-428301a61af945e48518a9eaf340e0da\"></div>\n",
              "<script type=\"text/javascript\">\n",
              "  (function(spec, embedOpt){\n",
              "    let outputDiv = document.currentScript.previousElementSibling;\n",
              "    if (outputDiv.id !== \"altair-viz-428301a61af945e48518a9eaf340e0da\") {\n",
              "      outputDiv = document.getElementById(\"altair-viz-428301a61af945e48518a9eaf340e0da\");\n",
              "    }\n",
              "    const paths = {\n",
              "      \"vega\": \"https://cdn.jsdelivr.net/npm//vega@5?noext\",\n",
              "      \"vega-lib\": \"https://cdn.jsdelivr.net/npm//vega-lib?noext\",\n",
              "      \"vega-lite\": \"https://cdn.jsdelivr.net/npm//vega-lite@4.8.1?noext\",\n",
              "      \"vega-embed\": \"https://cdn.jsdelivr.net/npm//vega-embed@6?noext\",\n",
              "    };\n",
              "\n",
              "    function loadScript(lib) {\n",
              "      return new Promise(function(resolve, reject) {\n",
              "        var s = document.createElement('script');\n",
              "        s.src = paths[lib];\n",
              "        s.async = true;\n",
              "        s.onload = () => resolve(paths[lib]);\n",
              "        s.onerror = () => reject(`Error loading script: ${paths[lib]}`);\n",
              "        document.getElementsByTagName(\"head\")[0].appendChild(s);\n",
              "      });\n",
              "    }\n",
              "\n",
              "    function showError(err) {\n",
              "      outputDiv.innerHTML = `<div class=\"error\" style=\"color:red;\">${err}</div>`;\n",
              "      throw err;\n",
              "    }\n",
              "\n",
              "    function displayChart(vegaEmbed) {\n",
              "      vegaEmbed(outputDiv, spec, embedOpt)\n",
              "        .catch(err => showError(`Javascript Error: ${err.message}<br>This usually means there's a typo in your chart specification. See the javascript console for the full traceback.`));\n",
              "    }\n",
              "\n",
              "    if(typeof define === \"function\" && define.amd) {\n",
              "      requirejs.config({paths});\n",
              "      require([\"vega-embed\"], displayChart, err => showError(`Error loading script: ${err.message}`));\n",
              "    } else if (typeof vegaEmbed === \"function\") {\n",
              "      displayChart(vegaEmbed);\n",
              "    } else {\n",
              "      loadScript(\"vega\")\n",
              "        .then(() => loadScript(\"vega-lite\"))\n",
              "        .then(() => loadScript(\"vega-embed\"))\n",
              "        .catch(showError)\n",
              "        .then(() => displayChart(vegaEmbed));\n",
              "    }\n",
              "  })({\"config\": {\"view\": {\"continuousWidth\": 400, \"continuousHeight\": 300}}, \"data\": {\"name\": \"data-b779710831de44a01260dfc06aeb4233\"}, \"mark\": \"line\", \"encoding\": {\"color\": {\"type\": \"nominal\", \"field\": \"variable\"}, \"x\": {\"type\": \"quantitative\", \"field\": \"x\"}, \"y\": {\"type\": \"quantitative\", \"field\": \"value\"}}, \"$schema\": \"https://vega.github.io/schema/vega-lite/v4.8.1.json\", \"datasets\": {\"data-b779710831de44a01260dfc06aeb4233\": [{\"x\": 0.0, \"variable\": \"y\", \"value\": 0.0}, {\"x\": 1.0, \"variable\": \"y\", \"value\": 10.0}, {\"x\": 2.0, \"variable\": \"y\", \"value\": 20.0}, {\"x\": 3.0, \"variable\": \"y\", \"value\": 30.0}, {\"x\": 4.0, \"variable\": \"y\", \"value\": 40.0}, {\"x\": 5.0, \"variable\": \"y\", \"value\": 50.0}, {\"x\": 6.0, \"variable\": \"y\", \"value\": 60.0}, {\"x\": 7.0, \"variable\": \"y\", \"value\": 70.0}, {\"x\": 8.0, \"variable\": \"y\", \"value\": 80.0}, {\"x\": 9.0, \"variable\": \"y\", \"value\": 90.0}, {\"x\": 10.0, \"variable\": \"y\", \"value\": 100.0}, {\"x\": 11.0, \"variable\": \"y\", \"value\": 110.0}, {\"x\": 12.0, \"variable\": \"y\", \"value\": 120.0}, {\"x\": 13.0, \"variable\": \"y\", \"value\": 130.0}, {\"x\": 14.0, \"variable\": \"y\", \"value\": 140.0}, {\"x\": 15.0, \"variable\": \"y\", \"value\": 150.0}, {\"x\": 16.0, \"variable\": \"y\", \"value\": 160.0}, {\"x\": 17.0, \"variable\": \"y\", \"value\": 170.0}, {\"x\": 18.0, \"variable\": \"y\", \"value\": 180.0}, {\"x\": 19.0, \"variable\": \"y\", \"value\": 190.0}, {\"x\": 20.0, \"variable\": \"y\", \"value\": 200.0}, {\"x\": 21.0, \"variable\": \"y\", \"value\": 210.0}, {\"x\": 22.0, \"variable\": \"y\", \"value\": 220.0}, {\"x\": 23.0, \"variable\": \"y\", \"value\": 230.0}, {\"x\": 24.0, \"variable\": \"y\", \"value\": 240.0}, {\"x\": 25.0, \"variable\": \"y\", \"value\": 250.0}, {\"x\": 26.0, \"variable\": \"y\", \"value\": 260.0}, {\"x\": 27.0, \"variable\": \"y\", \"value\": 270.0}, {\"x\": 28.0, \"variable\": \"y\", \"value\": 280.0}, {\"x\": 29.0, \"variable\": \"y\", \"value\": 290.0}, {\"x\": 30.0, \"variable\": \"y\", \"value\": 300.0}, {\"x\": 31.0, \"variable\": \"y\", \"value\": 310.0}, {\"x\": 32.0, \"variable\": \"y\", \"value\": 320.0}, {\"x\": 33.0, \"variable\": \"y\", \"value\": 330.0}, {\"x\": 34.0, \"variable\": \"y\", \"value\": 340.0}, {\"x\": 35.0, \"variable\": \"y\", \"value\": 350.0}, {\"x\": 36.0, \"variable\": \"y\", \"value\": 360.0}, {\"x\": 37.0, \"variable\": \"y\", \"value\": 370.0}, {\"x\": 38.0, \"variable\": \"y\", \"value\": 380.0}, {\"x\": 39.0, \"variable\": \"y\", \"value\": 390.0}, {\"x\": 40.0, \"variable\": \"y\", \"value\": 400.0}, {\"x\": 41.0, \"variable\": \"y\", \"value\": 410.0}, {\"x\": 42.0, \"variable\": \"y\", \"value\": 420.0}, {\"x\": 43.0, \"variable\": \"y\", \"value\": 430.0}, {\"x\": 44.0, \"variable\": \"y\", \"value\": 440.0}, {\"x\": 45.0, \"variable\": \"y\", \"value\": 450.0}, {\"x\": 46.0, \"variable\": \"y\", \"value\": 460.0}, {\"x\": 47.0, \"variable\": \"y\", \"value\": 470.0}, {\"x\": 48.0, \"variable\": \"y\", \"value\": 480.0}, {\"x\": 49.0, \"variable\": \"y\", \"value\": 490.0}, {\"x\": 50.0, \"variable\": \"y\", \"value\": 500.0}, {\"x\": 51.0, \"variable\": \"y\", \"value\": 510.0}, {\"x\": 52.0, \"variable\": \"y\", \"value\": 520.0}, {\"x\": 53.0, \"variable\": \"y\", \"value\": 530.0}, {\"x\": 54.0, \"variable\": \"y\", \"value\": 540.0}, {\"x\": 55.0, \"variable\": \"y\", \"value\": 550.0}, {\"x\": 56.0, \"variable\": \"y\", \"value\": 560.0}, {\"x\": 57.0, \"variable\": \"y\", \"value\": 570.0}, {\"x\": 58.0, \"variable\": \"y\", \"value\": 580.0}, {\"x\": 59.0, \"variable\": \"y\", \"value\": 590.0}, {\"x\": 60.0, \"variable\": \"y\", \"value\": 600.0}, {\"x\": 61.0, \"variable\": \"y\", \"value\": 610.0}, {\"x\": 62.0, \"variable\": \"y\", \"value\": 620.0}, {\"x\": 63.0, \"variable\": \"y\", \"value\": 630.0}, {\"x\": 64.0, \"variable\": \"y\", \"value\": 640.0}, {\"x\": 65.0, \"variable\": \"y\", \"value\": 650.0}, {\"x\": 66.0, \"variable\": \"y\", \"value\": 660.0}, {\"x\": 67.0, \"variable\": \"y\", \"value\": 670.0}, {\"x\": 68.0, \"variable\": \"y\", \"value\": 680.0}, {\"x\": 69.0, \"variable\": \"y\", \"value\": 690.0}, {\"x\": 70.0, \"variable\": \"y\", \"value\": 700.0}, {\"x\": 0.0, \"variable\": \"pred\", \"value\": 6.6}, {\"x\": 1.0, \"variable\": \"pred\", \"value\": 11.1}, {\"x\": 2.0, \"variable\": \"pred\", \"value\": 19.2}, {\"x\": 3.0, \"variable\": \"pred\", \"value\": 28.2}, {\"x\": 4.0, \"variable\": \"pred\", \"value\": 39.3}, {\"x\": 5.0, \"variable\": \"pred\", \"value\": 48.7}, {\"x\": 6.0, \"variable\": \"pred\", \"value\": 58.2}, {\"x\": 7.0, \"variable\": \"pred\", \"value\": 67.7}, {\"x\": 8.0, \"variable\": \"pred\", \"value\": 78.0}, {\"x\": 9.0, \"variable\": \"pred\", \"value\": 88.0}, {\"x\": 10.0, \"variable\": \"pred\", \"value\": 97.3}, {\"x\": 11.0, \"variable\": \"pred\", \"value\": 108.7}, {\"x\": 12.0, \"variable\": \"pred\", \"value\": 117.5}, {\"x\": 13.0, \"variable\": \"pred\", \"value\": 128.5}, {\"x\": 14.0, \"variable\": \"pred\", \"value\": 138.7}, {\"x\": 15.0, \"variable\": \"pred\", \"value\": 148.5}, {\"x\": 16.0, \"variable\": \"pred\", \"value\": 158.5}, {\"x\": 17.0, \"variable\": \"pred\", \"value\": 167.6}, {\"x\": 18.0, \"variable\": \"pred\", \"value\": 177.9}, {\"x\": 19.0, \"variable\": \"pred\", \"value\": 189.0}, {\"x\": 20.0, \"variable\": \"pred\", \"value\": 198.8}, {\"x\": 21.0, \"variable\": \"pred\", \"value\": 207.2}, {\"x\": 22.0, \"variable\": \"pred\", \"value\": 217.5}, {\"x\": 23.0, \"variable\": \"pred\", \"value\": 228.4}, {\"x\": 24.0, \"variable\": \"pred\", \"value\": 238.3}, {\"x\": 25.0, \"variable\": \"pred\", \"value\": 246.7}, {\"x\": 26.0, \"variable\": \"pred\", \"value\": 257.7}, {\"x\": 27.0, \"variable\": \"pred\", \"value\": 269.0}, {\"x\": 28.0, \"variable\": \"pred\", \"value\": 277.9}, {\"x\": 29.0, \"variable\": \"pred\", \"value\": 287.3}, {\"x\": 30.0, \"variable\": \"pred\", \"value\": 296.3}, {\"x\": 31.0, \"variable\": \"pred\", \"value\": 308.2}, {\"x\": 32.0, \"variable\": \"pred\", \"value\": 318.8}, {\"x\": 33.0, \"variable\": \"pred\", \"value\": 328.6}, {\"x\": 34.0, \"variable\": \"pred\", \"value\": 337.9}, {\"x\": 35.0, \"variable\": \"pred\", \"value\": 349.2}, {\"x\": 36.0, \"variable\": \"pred\", \"value\": 357.1}, {\"x\": 37.0, \"variable\": \"pred\", \"value\": 368.1}, {\"x\": 38.0, \"variable\": \"pred\", \"value\": 377.5}, {\"x\": 39.0, \"variable\": \"pred\", \"value\": 388.6}, {\"x\": 40.0, \"variable\": \"pred\", \"value\": 397.6}, {\"x\": 41.0, \"variable\": \"pred\", \"value\": 407.9}, {\"x\": 42.0, \"variable\": \"pred\", \"value\": 417.6}, {\"x\": 43.0, \"variable\": \"pred\", \"value\": 428.2}, {\"x\": 44.0, \"variable\": \"pred\", \"value\": 439.0}, {\"x\": 45.0, \"variable\": \"pred\", \"value\": 447.6}, {\"x\": 46.0, \"variable\": \"pred\", \"value\": 456.4}, {\"x\": 47.0, \"variable\": \"pred\", \"value\": 468.7}, {\"x\": 48.0, \"variable\": \"pred\", \"value\": 478.0}, {\"x\": 49.0, \"variable\": \"pred\", \"value\": 488.1}, {\"x\": 50.0, \"variable\": \"pred\", \"value\": 488.1}, {\"x\": 51.0, \"variable\": \"pred\", \"value\": 488.1}, {\"x\": 52.0, \"variable\": \"pred\", \"value\": 488.1}, {\"x\": 53.0, \"variable\": \"pred\", \"value\": 488.1}, {\"x\": 54.0, \"variable\": \"pred\", \"value\": 488.1}, {\"x\": 55.0, \"variable\": \"pred\", \"value\": 488.1}, {\"x\": 56.0, \"variable\": \"pred\", \"value\": 488.1}, {\"x\": 57.0, \"variable\": \"pred\", \"value\": 488.1}, {\"x\": 58.0, \"variable\": \"pred\", \"value\": 488.1}, {\"x\": 59.0, \"variable\": \"pred\", \"value\": 488.1}, {\"x\": 60.0, \"variable\": \"pred\", \"value\": 488.1}, {\"x\": 61.0, \"variable\": \"pred\", \"value\": 488.1}, {\"x\": 62.0, \"variable\": \"pred\", \"value\": 488.1}, {\"x\": 63.0, \"variable\": \"pred\", \"value\": 488.1}, {\"x\": 64.0, \"variable\": \"pred\", \"value\": 488.1}, {\"x\": 65.0, \"variable\": \"pred\", \"value\": 488.1}, {\"x\": 66.0, \"variable\": \"pred\", \"value\": 488.1}, {\"x\": 67.0, \"variable\": \"pred\", \"value\": 488.1}, {\"x\": 68.0, \"variable\": \"pred\", \"value\": 488.1}, {\"x\": 69.0, \"variable\": \"pred\", \"value\": 488.1}, {\"x\": 70.0, \"variable\": \"pred\", \"value\": 488.1}]}}, {\"mode\": \"vega-lite\"});\n",
              "</script>"
            ],
            "text/plain": [
              "alt.Chart(...)"
            ]
          },
          "execution_count": 117,
          "metadata": {},
          "output_type": "execute_result"
        }
      ],
      "source": [
        "chart_data = pd.concat([train, test])\n",
        "chart_data = pd.melt(chart_data, id_vars = 'x', value_vars = ['y', 'pred'])\n",
        "alt.Chart(chart_data).mark_line().encode(x = 'x', y = 'value', color = 'variable')"
      ]
    },
    {
      "cell_type": "markdown",
      "id": "b1b4b9d7-c6e9-4876-a2a8-9270b8c7ad88",
      "metadata": {
        "id": "b1b4b9d7-c6e9-4876-a2a8-9270b8c7ad88"
      },
      "source": [
        "This error occurs because we are trying to use one model to forecast multiple time periods. If we wanted to use tree based models for this purpose, we would have to use a separate tree based model for every unique time period we want to forecast. For example, if we needed the forecast for the next six hours, we would have to build separate models for hr + 1, hr + 2, hr + 3, hr + 4, hr + 5, and hr + 6"
      ]
    }
  ],
  "metadata": {
    "kernelspec": {
      "display_name": "Python 3",
      "language": "python",
      "name": "python3"
    },
    "language_info": {
      "codemirror_mode": {
        "name": "ipython",
        "version": 3
      },
      "file_extension": ".py",
      "mimetype": "text/x-python",
      "name": "python",
      "nbconvert_exporter": "python",
      "pygments_lexer": "ipython3",
      "version": "3.8.2"
    },
    "colab": {
      "provenance": [],
      "include_colab_link": true
    }
  },
  "nbformat": 4,
  "nbformat_minor": 5
}